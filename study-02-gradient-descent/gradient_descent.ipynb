{
 "cells": [
  {
   "cell_type": "code",
   "execution_count": 2,
   "id": "b68eff14-f463-4429-9cef-e11a3066c854",
   "metadata": {},
   "outputs": [],
   "source": [
    "import numpy as np\n",
    "import math"
   ]
  },
  {
   "cell_type": "markdown",
   "id": "d43a7978-856d-41f2-ab4f-4df71125d43b",
   "metadata": {},
   "source": [
    "## How it works"
   ]
  },
  {
   "cell_type": "code",
   "execution_count": 4,
   "id": "41a536e3-e6e4-4d4f-9595-b3297fce92ef",
   "metadata": {},
   "outputs": [
    {
     "name": "stdout",
     "output_type": "stream",
     "text": [
      "0.7054848786651786\n"
     ]
    }
   ],
   "source": [
    "x1 = .47\n",
    "x2 = 1\n",
    "def sgm(v):\n",
    "    return 1/(1+math.exp(-v))\n",
    "             \n",
    "# the weights that we got    \n",
    "y = 5.060867 * x1 + 1.4086502 * x2 + -2.9137027\n",
    "print(sgm(y))\n"
   ]
  },
  {
   "cell_type": "code",
   "execution_count": 13,
   "id": "6ab602c6-4359-4f7a-882a-18faf9f70219",
   "metadata": {},
   "outputs": [],
   "source": [
    "def sigmoid(x):\n",
    "    return 1 / (1 + np.exp(x))"
   ]
  },
  {
   "cell_type": "code",
   "execution_count": 19,
   "id": "e5ed1954-5f83-4674-890f-0cb8bec91302",
   "metadata": {},
   "outputs": [],
   "source": [
    "def log_loss(y_pred,y_true):\n",
    "    epsilon = 1e-15\n",
    "    changed_y_pred = [max(i,epsilon) for i in y_pred]\n",
    "    changed_y_pred = [min(i,1-epsilon) for i in changed_y_pred]\n",
    "    changed_y_pred = np.array(changed_y_pred)\n",
    "    return -np.mean(y_true * np.log(changed_y_pred) + (1-y_true) * np.log(1-changed_y_pred) )\n",
    "\n",
    "\n"
   ]
  },
  {
   "cell_type": "code",
   "execution_count": 90,
   "id": "b91edc9a-baaf-44d3-8f0a-4280adf2f0c2",
   "metadata": {},
   "outputs": [
    {
     "data": {
      "text/plain": [
       "array([[ 1,  5],\n",
       "       [ 2, 10]])"
      ]
     },
     "execution_count": 90,
     "metadata": {},
     "output_type": "execute_result"
    }
   ],
   "source": [
    "a = np.array([[1], [2]]).reshape(2,1)\n",
    "b = np.array([[5],[10]])\n",
    "np.column_stack((a, b))"
   ]
  },
  {
   "cell_type": "markdown",
   "id": "2782e244-6ac4-4d00-9e20-6f02bd249ba9",
   "metadata": {},
   "source": [
    "## NOTE: It's not fully correct because of the data, but the function works!"
   ]
  },
  {
   "cell_type": "code",
   "execution_count": 198,
   "id": "b8091949-b70b-49b8-87f6-e87bfc5c9d08",
   "metadata": {
    "tags": []
   },
   "outputs": [
    {
     "name": "stdout",
     "output_type": "stream",
     "text": [
      "[0.57544831 0.58924586] -0.05061072018142457\n",
      "[[ 75.29364451  31.4712171  181.71676518 144.64277706  64.73086997]] = prediction"
     ]
    }
   ],
   "source": [
    "area = np.array([[1800],[1170],[3700],[3300],[1440]])\n",
    "bedrooms = np.array([[3],[2],[5],[4],[3]])\n",
    "y_true =np.array([[82.0],[38.0],[167.0],[155.0],[62.0]])\n",
    "\n",
    "X = np.column_stack((area, bedrooms))\n",
    "\n",
    "from sklearn import preprocessing\n",
    "\n",
    "sx = preprocessing.MinMaxScaler()\n",
    "sy = preprocessing.MinMaxScaler()\n",
    "scaled_X =  sx.fit_transform(X)\n",
    "scaled_Y = sy.fit_transform(y_true)\n",
    "\n",
    "def gradient_descent(X,y_true, epochs=500):\n",
    "    w = np.ones(shape=X.shape[1])\n",
    "    bias = 0\n",
    "    rate = 0.01\n",
    "    n = X.shape[0]\n",
    "    \n",
    "    y_true = y_true.reshape(y_true.shape[0],)\n",
    "    \n",
    "    cost_list = []\n",
    "    epoch_list = []\n",
    "    for epoch in range(epochs):\n",
    "        y_predicted = np.dot(X,w) + bias\n",
    "        \n",
    "        w_gradient = -(2/n) * (X.T.dot(y_true-y_predicted))\n",
    "        b_gradient = -(2/n) * np.sum(y_true-y_predicted)\n",
    "        w = w - rate * w_gradient\n",
    "        bias = bias - rate * b_gradient\n",
    "        cost = np.mean(np.square(y_true-y_predicted)) # mean squared error\n",
    "        if epoch % 10 == 0:\n",
    "            cost_list.append(cost)\n",
    "            epoch_list.append(epoch)\n",
    "            # print(\"[INFO]  Epochs: {}.cost:{} . w:{} bias:{}\".format(epoch+1,cost,w,bias))\n",
    "        # basically the same as this - y_predicted = w1 * area + w2 * bedrooms + bias\n",
    "    return (y_predicted,w,bias,epoch_list,cost_list)\n",
    "\n",
    "def predict(X,y, w,bias):\n",
    "    scaled_X =sx.transform(X)\n",
    "    scaled_price = w[0] * scaled_X[0] + w[1] * scaled_X[1] + bias\n",
    "    return sy.inverse_transform([np.dot(scaled_X,w) + bias]) # transform back\n",
    "    \n",
    "(y_predicted,w,bias,epoch_list,cost_list) = gradient_descent(scaled_X,scaled_Y)\n",
    "print(w,bias)\n",
    "# We trained our model with scaled values, but we want to predict using normal values\n",
    "print(predict(X,y_true, w,bias),end=\" = prediction\")\n",
    "# our predicted values are kinda close, but not the best\n"
   ]
  },
  {
   "cell_type": "markdown",
   "id": "e2b4861b-9e07-4eda-a04a-19985e937b2e",
   "metadata": {},
   "source": [
    "## Oh no, its another dreaded comparision alert\n",
    "1. We can rewrite this dot product - **np.dot(X,w) + bias**\n",
    "1. As this **np.dot(w, X.T) + bias**\n",
    "1. NOTE: we can't simply write np.do(w,X) because they aren't the same shape, so we have to transpose it first. **IMO first variant is simpler**\n",
    "1. And all of this is just w1 * area + w2 * bedrooms + bias\n",
    "1. But we are utilizing numpy incredibly powerful and fast vector operations that lets us multiple 2 matrices rather than writing dreaded double for loop"
   ]
  },
  {
   "cell_type": "markdown",
   "id": "48847a51-1b32-4db9-9815-e7797b246abb",
   "metadata": {},
   "source": [
    "## Graph"
   ]
  },
  {
   "cell_type": "code",
   "execution_count": 191,
   "id": "cd4b473b-e237-4404-bdfa-2578b2eb5a46",
   "metadata": {},
   "outputs": [
    {
     "data": {
      "text/plain": [
       "[<matplotlib.lines.Line2D at 0x1f00eab4be0>]"
      ]
     },
     "execution_count": 191,
     "metadata": {},
     "output_type": "execute_result"
    },
    {
     "data": {
      "image/png": "[encoded data removed]",
      "text/plain": [
       "<Figure size 432x288 with 1 Axes>"
      ]
     },
     "metadata": {
      "needs_background": "light"
     },
     "output_type": "display_data"
    }
   ],
   "source": [
    "import matplotlib.pyplot as plt\n",
    "plt.xlabel(\"epoch\")\n",
    "plt.ylabel(\"cost\")\n",
    "plt.plot(epoch_list,cost_list)"
   ]
  },
  {
   "cell_type": "markdown",
   "id": "e12db7fa-ebcd-4e3c-8cb3-cbdc6d7a6150",
   "metadata": {},
   "source": [
    "## Our cost values don't seem to be decreasing that much after 400 epochs, so we can kinda assume that around 400-500 epochs is fine and won't affect the plot much further"
   ]
  },
  {
   "cell_type": "code",
   "execution_count": null,
   "id": "c6e14296-a2f3-4ea1-96fa-5dbd708d558f",
   "metadata": {},
   "outputs": [],
   "source": []
  }
 ],
 "metadata": {
  "kernelspec": {
   "display_name": "Python 3 (ipykernel)",
   "language": "python",
   "name": "python3"
  },
  "language_info": {
   "codemirror_mode": {
    "name": "ipython",
    "version": 3
   },
   "file_extension": ".py",
   "mimetype": "text/x-python",
   "name": "python",
   "nbconvert_exporter": "python",
   "pygments_lexer": "ipython3",
   "version": "3.8.0"
  }
 },
 "nbformat": 4,
 "nbformat_minor": 5
}
