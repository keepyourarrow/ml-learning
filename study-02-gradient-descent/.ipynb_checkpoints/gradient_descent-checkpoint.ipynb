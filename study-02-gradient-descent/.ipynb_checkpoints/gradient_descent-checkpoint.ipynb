{
 "cells": [
  {
   "cell_type": "code",
   "execution_count": 2,
   "id": "b68eff14-f463-4429-9cef-e11a3066c854",
   "metadata": {},
   "outputs": [],
   "source": [
    "import numpy as np\n",
    "import math"
   ]
  },
  {
   "cell_type": "markdown",
   "id": "d43a7978-856d-41f2-ab4f-4df71125d43b",
   "metadata": {},
   "source": [
    "## How it works"
   ]
  },
  {
   "cell_type": "code",
   "execution_count": 4,
   "id": "41a536e3-e6e4-4d4f-9595-b3297fce92ef",
   "metadata": {},
   "outputs": [
    {
     "name": "stdout",
     "output_type": "stream",
     "text": [
      "0.7054848786651786\n"
     ]
    }
   ],
   "source": [
    "x1 = .47\n",
    "x2 = 1\n",
    "def sgm(v):\n",
    "    return 1/(1+math.exp(-v))\n",
    "             \n",
    "# the weights that we got    \n",
    "y = 5.060867 * x1 + 1.4086502 * x2 + -2.9137027\n",
    "print(sgm(y))\n"
   ]
  },
  {
   "cell_type": "code",
   "execution_count": 13,
   "id": "6ab602c6-4359-4f7a-882a-18faf9f70219",
   "metadata": {},
   "outputs": [],
   "source": [
    "def sigmoid(x):\n",
    "    return 1 / (1 + np.exp(x))"
   ]
  },
  {
   "cell_type": "code",
   "execution_count": 19,
   "id": "e5ed1954-5f83-4674-890f-0cb8bec91302",
   "metadata": {},
   "outputs": [],
   "source": [
    "def log_loss(y_pred,y_true):\n",
    "    epsilon = 1e-15\n",
    "    changed_y_pred = [max(i,epsilon) for i in y_pred]\n",
    "    changed_y_pred = [min(i,1-epsilon) for i in changed_y_pred]\n",
    "    changed_y_pred = np.array(changed_y_pred)\n",
    "    return -np.mean(y_true * np.log(changed_y_pred) + (1-y_true) * np.log(1-changed_y_pred) )\n",
    "\n",
    "\n"
   ]
  },
  {
   "cell_type": "code",
   "execution_count": 90,
   "id": "b91edc9a-baaf-44d3-8f0a-4280adf2f0c2",
   "metadata": {},
   "outputs": [
    {
     "data": {
      "text/plain": [
       "array([[ 1,  5],\n",
       "       [ 2, 10]])"
      ]
     },
     "execution_count": 90,
     "metadata": {},
     "output_type": "execute_result"
    }
   ],
   "source": [
    "a = np.array([[1], [2]]).reshape(2,1)\n",
    "b = np.array([[5],[10]])\n",
    "np.column_stack((a, b))"
   ]
  },
  {
   "cell_type": "markdown",
   "id": "2782e244-6ac4-4d00-9e20-6f02bd249ba9",
   "metadata": {},
   "source": [
    "## NOTE: It's not fully correct because of the data, but the function works!"
   ]
  },
  {
   "cell_type": "code",
   "execution_count": 136,
   "id": "c39ea417-c1a5-494c-b450-3c28e2b7d35b",
   "metadata": {
    "tags": []
   },
   "outputs": [
    {
     "name": "stdout",
     "output_type": "stream",
     "text": [
      "[[-0.23543676 -0.7473481   1.01075466  0.57875708 -0.36051917]\n",
      " [-0.16862252 -0.7121447   1.15452196  0.69584827 -0.30142885]]\n",
      "-4.193706529399148\n",
      "bias 0.041937065293991486\n",
      "w [[1.00235437 1.00168623]\n",
      " [1.00747348 1.00712145]\n",
      " [0.98989245 0.98845478]\n",
      " [0.99421243 0.99304152]\n",
      " [1.00360519 1.00301429]]\n",
      "[0.58234519 0.         2.         1.5085639  0.4400527 ]\n"
     ]
    }
   ],
   "source": [
    "area = np.array([[1800],[1170],[3700],[3300],[1440]])\n",
    "bedrooms = np.array([[3],[2],[5],[4],[3]])\n",
    "y_true =np.array([[82.0],[38.0],[167.0],[155.0],[62.0]])\n",
    "\n",
    "X = np.column_stack((area, bedrooms))\n",
    "\n",
    "from sklearn import preprocessing\n",
    "\n",
    "sx = preprocessing.MinMaxScaler()\n",
    "sy = preprocessing.MinMaxScaler()\n",
    "scaled_X =  sx.fit_transform(X)\n",
    "scaled_Y = sy.fit_transform(y_true)\n",
    "\n",
    "def gradient_descent(X,y_true, epochs=1000):\n",
    "    w = np.ones(shape=X.shape[1])\n",
    "    bias = 0\n",
    "    rate = 0.01\n",
    "    n = X.shape[0]\n",
    "    \n",
    "    cost_list = epoch_list = []\n",
    "    epoch_list = []\n",
    "    for epoch in range(epochs):\n",
    "        y_predicted = np.dot(X,w) + bias\n",
    "        w_gradient = -(2/n) * (X.T.dot(y_true-y_predicted))\n",
    "        b_gradient = (2/n) * np.sum(y_true-y_predicted)\n",
    "        print(w_gradient)\n",
    "        print(b_gradient)\n",
    "        w = w - rate * w_gradient.T\n",
    "        bias = bias - rate * b_gradient\n",
    "        print('bias',bias)\n",
    "        print('w',w)\n",
    "        cost = np.mean(np.square(y_true-y_predicted)) # mean squared error\n",
    "        if i * 10 ==0:\n",
    "            cost_list.append(cost)\n",
    "            epoch_list.append(epoch+1)\n",
    "        return y_predicted\n",
    "        # basically the same as this - y_predicted = w1 * area + w2 * bedrooms + bias\n",
    "#         # loss = log_loss(y_predicted,y_true)\n",
    "        \n",
    "#         w1d =(1/n) * np.dot(np.transpose(area), (y_predicted - y_true))\n",
    "#         w2d = (1 / n) * np.dot(np.transpose(bedrooms), (y_predicted - y_true))\n",
    "#         bias_d = np.mean(y_predicted - y_true)\n",
    "        \n",
    "        # print(\"[INFO]  Epochs: {}. . W1:{} w2:{} bias:{}\".format(epoch,w1,w2,bias))\n",
    "    return (w1,w2)\n",
    "    \n",
    "(y_predicted) = gradient_descent(scaled_X,scaled_Y)\n",
    "print(y_predicted)"
   ]
  },
  {
   "cell_type": "markdown",
   "id": "e2b4861b-9e07-4eda-a04a-19985e937b2e",
   "metadata": {},
   "source": [
    "## Oh no, its another dreaded comparision alert\n",
    "1. We can rewrite this dot product - **np.dot(X,w) + bias**\n",
    "1. As this **np.dot(w, X.T) + bias**\n",
    "1. NOTE: we can't simply write np.do(w,X) because they aren't the same shape, so we have to transpose it first. **IMO first variant is simpler**\n",
    "1. And all of this is just w1 * area + w2 * bedrooms + bias\n",
    "1. But we are utilizing numpy incredibly powerful and fast vector operations that lets us multiple 2 matrices rather than writing dreaded double for loop"
   ]
  },
  {
   "cell_type": "markdown",
   "id": "48847a51-1b32-4db9-9815-e7797b246abb",
   "metadata": {},
   "source": [
    "## Batch_gradient descent"
   ]
  },
  {
   "cell_type": "code",
   "execution_count": null,
   "id": "fc2e1550-874d-4486-a5b6-fd9f30d832c9",
   "metadata": {},
   "outputs": [],
   "source": [
    "def batch_gradient_descent(area, bedrooms,y_true, epochs=1000):\n"
   ]
  }
 ],
 "metadata": {
  "kernelspec": {
   "display_name": "Python 3 (ipykernel)",
   "language": "python",
   "name": "python3"
  },
  "language_info": {
   "codemirror_mode": {
    "name": "ipython",
    "version": 3
   },
   "file_extension": ".py",
   "mimetype": "text/x-python",
   "name": "python",
   "nbconvert_exporter": "python",
   "pygments_lexer": "ipython3",
   "version": "3.8.0"
  }
 },
 "nbformat": 4,
 "nbformat_minor": 5
}
