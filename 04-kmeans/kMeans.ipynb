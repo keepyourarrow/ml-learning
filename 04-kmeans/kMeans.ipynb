{
 "cells": [
  {
   "cell_type": "code",
   "execution_count": 2,
   "id": "934999cb-843f-424e-8db8-9fb07b223a69",
   "metadata": {},
   "outputs": [
    {
     "data": {
      "text/plain": [
       "['sepal length (cm)',\n",
       " 'sepal width (cm)',\n",
       " 'petal length (cm)',\n",
       " 'petal width (cm)']"
      ]
     },
     "execution_count": 2,
     "metadata": {},
     "output_type": "execute_result"
    }
   ],
   "source": [
    "import pandas as pd\n",
    "from sklearn.model_selection import train_test_split\n",
    "from sklearn import datasets\n",
    "\n",
    "import numpy as np\n",
    "from matplotlib import pyplot as plt\n",
    "iris = datasets.load_iris()\n",
    "iris.feature_names"
   ]
  },
  {
   "cell_type": "code",
   "execution_count": 3,
   "id": "b09b36c9-784e-40fa-821b-fa7442ff4455",
   "metadata": {},
   "outputs": [
    {
     "data": {
      "text/html": [
       "<div>\n",
       "<style scoped>\n",
       "    .dataframe tbody tr th:only-of-type {\n",
       "        vertical-align: middle;\n",
       "    }\n",
       "\n",
       "    .dataframe tbody tr th {\n",
       "        vertical-align: top;\n",
       "    }\n",
       "\n",
       "    .dataframe thead th {\n",
       "        text-align: right;\n",
       "    }\n",
       "</style>\n",
       "<table border=\"1\" class=\"dataframe\">\n",
       "  <thead>\n",
       "    <tr style=\"text-align: right;\">\n",
       "      <th></th>\n",
       "      <th>petal length (cm)</th>\n",
       "      <th>petal width (cm)</th>\n",
       "      <th>target</th>\n",
       "      <th>target_name</th>\n",
       "    </tr>\n",
       "  </thead>\n",
       "  <tbody>\n",
       "    <tr>\n",
       "      <th>0</th>\n",
       "      <td>1.4</td>\n",
       "      <td>0.2</td>\n",
       "      <td>0</td>\n",
       "      <td>setosa</td>\n",
       "    </tr>\n",
       "    <tr>\n",
       "      <th>1</th>\n",
       "      <td>1.4</td>\n",
       "      <td>0.2</td>\n",
       "      <td>0</td>\n",
       "      <td>setosa</td>\n",
       "    </tr>\n",
       "    <tr>\n",
       "      <th>2</th>\n",
       "      <td>1.3</td>\n",
       "      <td>0.2</td>\n",
       "      <td>0</td>\n",
       "      <td>setosa</td>\n",
       "    </tr>\n",
       "    <tr>\n",
       "      <th>3</th>\n",
       "      <td>1.5</td>\n",
       "      <td>0.2</td>\n",
       "      <td>0</td>\n",
       "      <td>setosa</td>\n",
       "    </tr>\n",
       "    <tr>\n",
       "      <th>4</th>\n",
       "      <td>1.4</td>\n",
       "      <td>0.2</td>\n",
       "      <td>0</td>\n",
       "      <td>setosa</td>\n",
       "    </tr>\n",
       "    <tr>\n",
       "      <th>...</th>\n",
       "      <td>...</td>\n",
       "      <td>...</td>\n",
       "      <td>...</td>\n",
       "      <td>...</td>\n",
       "    </tr>\n",
       "    <tr>\n",
       "      <th>145</th>\n",
       "      <td>5.2</td>\n",
       "      <td>2.3</td>\n",
       "      <td>2</td>\n",
       "      <td>virginica</td>\n",
       "    </tr>\n",
       "    <tr>\n",
       "      <th>146</th>\n",
       "      <td>5.0</td>\n",
       "      <td>1.9</td>\n",
       "      <td>2</td>\n",
       "      <td>virginica</td>\n",
       "    </tr>\n",
       "    <tr>\n",
       "      <th>147</th>\n",
       "      <td>5.2</td>\n",
       "      <td>2.0</td>\n",
       "      <td>2</td>\n",
       "      <td>virginica</td>\n",
       "    </tr>\n",
       "    <tr>\n",
       "      <th>148</th>\n",
       "      <td>5.4</td>\n",
       "      <td>2.3</td>\n",
       "      <td>2</td>\n",
       "      <td>virginica</td>\n",
       "    </tr>\n",
       "    <tr>\n",
       "      <th>149</th>\n",
       "      <td>5.1</td>\n",
       "      <td>1.8</td>\n",
       "      <td>2</td>\n",
       "      <td>virginica</td>\n",
       "    </tr>\n",
       "  </tbody>\n",
       "</table>\n",
       "<p>150 rows × 4 columns</p>\n",
       "</div>"
      ],
      "text/plain": [
       "     petal length (cm)  petal width (cm)  target target_name\n",
       "0                  1.4               0.2       0      setosa\n",
       "1                  1.4               0.2       0      setosa\n",
       "2                  1.3               0.2       0      setosa\n",
       "3                  1.5               0.2       0      setosa\n",
       "4                  1.4               0.2       0      setosa\n",
       "..                 ...               ...     ...         ...\n",
       "145                5.2               2.3       2   virginica\n",
       "146                5.0               1.9       2   virginica\n",
       "147                5.2               2.0       2   virginica\n",
       "148                5.4               2.3       2   virginica\n",
       "149                5.1               1.8       2   virginica\n",
       "\n",
       "[150 rows x 4 columns]"
      ]
     },
     "execution_count": 3,
     "metadata": {},
     "output_type": "execute_result"
    }
   ],
   "source": [
    "df = pd.DataFrame(iris.data, columns=iris.feature_names)\n",
    "df.drop(labels=[\"sepal length (cm)\",\"sepal width (cm)\"],axis=1, inplace=True)\n",
    "df['target'] = iris.target\n",
    "df['target_name'] = df.target.apply(lambda x: iris.target_names[x])\n",
    "df"
   ]
  },
  {
   "cell_type": "markdown",
   "id": "387d7b7e-cf58-473c-a4e3-55d3bb055b35",
   "metadata": {},
   "source": [
    "## plot on the graph"
   ]
  },
  {
   "cell_type": "code",
   "execution_count": 4,
   "id": "93c7585f-fcab-4a9b-a277-18f8c3b25889",
   "metadata": {
    "tags": []
   },
   "outputs": [
    {
     "data": {
      "image/png": "[encoded data removed]",
      "text/plain": [
       "<Figure size 432x288 with 1 Axes>"
      ]
     },
     "metadata": {
      "needs_background": "light"
     },
     "output_type": "display_data"
    }
   ],
   "source": [
    "df1 = df[df['target'] == 0]\n",
    "df2 = df[df['target'] == 1]\n",
    "df3 = df[df['target'] == 2]\n",
    "plt.scatter(df1['petal length (cm)'], df1['petal width (cm)'], color=\"green\", label=df1.iloc[1:2,:]['target_name'].to_string(index=False))\n",
    "plt.scatter(df2['petal length (cm)'], df2['petal width (cm)'], color=\"blue\", label=df2.iloc[1:2,:]['target_name'].to_string(index=False))\n",
    "plt.scatter(df3['petal length (cm)'], df3['petal width (cm)'], color=\"red\",label=df3.iloc[1:2,:]['target_name'].to_string(index=False))\n",
    "plt.xlabel('petal length (cm)')\n",
    "plt.ylabel('petal width (cm)')\n",
    "plt.legend()\n",
    "plt.show()"
   ]
  },
  {
   "cell_type": "code",
   "execution_count": 5,
   "id": "b2e0ecc6-2343-4c7d-acbd-a14d3837dca6",
   "metadata": {
    "tags": []
   },
   "outputs": [
    {
     "name": "stdout",
     "output_type": "stream",
     "text": [
      "[1 1 1 1 1 1 1 1 1 1 1 1 1 1 1 1 1 1 1 1 1 1 1 1 1 1 1 1 1 1 1 1 1 1 1 1 1\n",
      " 1 1 1 1 1 1 1 1 1 1 1 1 1 0 0 0 0 0 0 0 0 0 0 0 0 0 0 0 0 0 0 0 0 0 0 0 0\n",
      " 0 0 0 2 0 0 0 0 0 2 0 0 0 0 0 0 0 0 0 0 0 0 0 0 0 0 2 2 2 2 2 2 0 2 2 2 2\n",
      " 2 2 2 2 2 2 2 2 0 2 2 2 2 2 2 0 2 2 2 2 2 2 2 2 2 2 2 0 2 2 2 2 2 2 2 2 2\n",
      " 2 2]\n"
     ]
    }
   ],
   "source": [
    "from sklearn.cluster import KMeans\n",
    "km = KMeans(n_clusters=3)\n",
    "\n",
    "prediction_data = df.iloc[:,:2]\n",
    "y_predicted = km.fit_predict(prediction_data)\n",
    "print(y_predicted)"
   ]
  },
  {
   "cell_type": "code",
   "execution_count": 6,
   "id": "f1ef7bd4-f014-444a-9f24-9d9391b077de",
   "metadata": {
    "tags": []
   },
   "outputs": [
    {
     "data": {
      "image/png": "[encoded data removed]",
      "text/plain": [
       "<Figure size 432x288 with 1 Axes>"
      ]
     },
     "metadata": {
      "needs_background": "light"
     },
     "output_type": "display_data"
    }
   ],
   "source": [
    "df['cluster'] = y_predicted\n",
    "centroids = km.cluster_centers_\n",
    "\n",
    "\n",
    "df1 = df[df.cluster==0]\n",
    "df2 = df[df.cluster==1]\n",
    "df3 = df[df.cluster==2]\n",
    "plt.scatter(df1['petal length (cm)'], df1['petal width (cm)'], color=\"green\", label=df1.iloc[1:2,:]['target_name'].to_string(index=False))\n",
    "plt.scatter(df2['petal length (cm)'], df2['petal width (cm)'], color=\"blue\", label=df2.iloc[1:2,:]['target_name'].to_string(index=False))\n",
    "plt.scatter(df3['petal length (cm)'], df3['petal width (cm)'], color=\"red\",label=df3.iloc[1:2,:]['target_name'].to_string(index=False))\n",
    "\n",
    "plt.xlabel('petal length (cm)')\n",
    "plt.ylabel('petal width (cm)')\n",
    "plt.legend()\n",
    "plt.show()"
   ]
  },
  {
   "cell_type": "markdown",
   "id": "13f49ce5-dbb2-4364-ae78-44040c7c6a6d",
   "metadata": {},
   "source": [
    "## Lets try scaling and see if that helps"
   ]
  },
  {
   "cell_type": "code",
   "execution_count": 7,
   "id": "f367085c-cb4f-431e-be7f-681e1b83237e",
   "metadata": {
    "tags": []
   },
   "outputs": [
    {
     "name": "stdout",
     "output_type": "stream",
     "text": [
      "     petal length (cm)  petal width (cm)  target target_name  cluster\n",
      "0             0.067797          0.041667       0      setosa        1\n",
      "1             0.067797          0.041667       0      setosa        1\n",
      "2             0.050847          0.041667       0      setosa        1\n",
      "3             0.084746          0.041667       0      setosa        1\n",
      "4             0.067797          0.041667       0      setosa        1\n",
      "..                 ...               ...     ...         ...      ...\n",
      "145           0.711864          0.916667       2   virginica        2\n",
      "146           0.677966          0.750000       2   virginica        2\n",
      "147           0.711864          0.791667       2   virginica        2\n",
      "148           0.745763          0.916667       2   virginica        2\n",
      "149           0.694915          0.708333       2   virginica        2\n",
      "\n",
      "[150 rows x 5 columns]\n"
     ]
    }
   ],
   "source": [
    "from sklearn.preprocessing import MinMaxScaler\n",
    "\n",
    "scaler = MinMaxScaler()\n",
    "\n",
    "scaler.fit(df[['petal length (cm)']])\n",
    "df['petal length (cm)'] = scaler.transform(df[['petal length (cm)']])\n",
    "scaler.fit(df[['petal width (cm)']])\n",
    "df['petal width (cm)'] = scaler.transform(df[['petal width (cm)']])\n",
    "print(df)\n"
   ]
  },
  {
   "cell_type": "code",
   "execution_count": 8,
   "id": "a4bd4eaa-1d78-4fea-a56c-7da9c36653e1",
   "metadata": {
    "tags": []
   },
   "outputs": [
    {
     "name": "stdout",
     "output_type": "stream",
     "text": [
      "[1 1 1 1 1 1 1 1 1 1 1 1 1 1 1 1 1 1 1 1 1 1 1 1 1 1 1 1 1 1 1 1 1 1 1 1 1\n",
      " 1 1 1 1 1 1 1 1 1 1 1 1 1 2 2 2 2 2 2 2 2 2 2 2 2 2 2 2 2 2 2 2 2 0 2 2 2\n",
      " 2 2 2 0 2 2 2 2 2 2 2 2 2 2 2 2 2 2 2 2 2 2 2 2 2 2 0 0 0 0 0 0 2 0 0 0 0\n",
      " 0 0 0 0 0 0 0 0 2 0 0 0 0 0 0 0 0 0 0 0 0 0 2 2 0 0 0 0 0 0 0 0 0 0 0 0 0\n",
      " 0 0]\n"
     ]
    }
   ],
   "source": [
    "km = KMeans(n_clusters=3)\n",
    "\n",
    "prediction_data = df.iloc[:,:2]\n",
    "y_predicted = km.fit_predict(prediction_data)\n",
    "print(y_predicted)"
   ]
  },
  {
   "cell_type": "code",
   "execution_count": 9,
   "id": "6cca0bf0-1dc5-4d77-8a2d-293de9229bc2",
   "metadata": {
    "tags": []
   },
   "outputs": [
    {
     "data": {
      "image/png": "[encoded data removed]",
      "text/plain": [
       "<Figure size 432x288 with 1 Axes>"
      ]
     },
     "metadata": {
      "needs_background": "light"
     },
     "output_type": "display_data"
    }
   ],
   "source": [
    "df['cluster'] = y_predicted\n",
    "centroids = km.cluster_centers_\n",
    "\n",
    "df1 = df[df.cluster==0]\n",
    "df2 = df[df.cluster==1]\n",
    "df3 = df[df.cluster==2]\n",
    "\n",
    "plt.scatter(df1['petal length (cm)'], df1['petal width (cm)'], color=\"green\", label=df1.iloc[1:2,:]['target_name'].to_string(index=False))\n",
    "plt.scatter(df2['petal length (cm)'], df2['petal width (cm)'], color=\"blue\", label=df2.iloc[1:2,:]['target_name'].to_string(index=False))\n",
    "plt.scatter(df3['petal length (cm)'], df3['petal width (cm)'], color=\"red\",label=df3.iloc[1:2,:]['target_name'].to_string(index=False))\n",
    "plt.scatter(centroids[:,0], centroids[:,:1],color='black', marker=\"*\", linewidths=10)\n",
    "plt.xlabel('petal length (cm)')\n",
    "plt.ylabel('petal width (cm)')\n",
    "plt.legend()\n",
    "plt.show()"
   ]
  },
  {
   "cell_type": "markdown",
   "id": "455fae6e-6b3e-43ca-829a-c3525466ec33",
   "metadata": {},
   "source": [
    "## IT didn't help :("
   ]
  },
  {
   "cell_type": "markdown",
   "id": "fe12111f-d22a-42af-93f7-d7aaa90705d8",
   "metadata": {},
   "source": [
    "## Let's try Elbow now"
   ]
  },
  {
   "cell_type": "code",
   "execution_count": 10,
   "id": "0c69d85d-0d0a-4bd7-8c90-27ed68fdd257",
   "metadata": {},
   "outputs": [
    {
     "data": {
      "text/plain": [
       "[28.368353219727194,\n",
       " 5.176463590044369,\n",
       " 1.7018746881920963,\n",
       " 1.1615234094205578,\n",
       " 0.853861735391224,\n",
       " 0.6798101576314027,\n",
       " 0.5658013138564928,\n",
       " 0.486178934934251,\n",
       " 0.42906316296577396]"
      ]
     },
     "execution_count": 10,
     "metadata": {},
     "output_type": "execute_result"
    }
   ],
   "source": [
    "prediction_data = df.iloc[:,:2]\n",
    "arr = []\n",
    "for k in range(1,10):\n",
    "    km = KMeans(n_clusters=k)\n",
    "    km.fit(prediction_data)\n",
    "    arr.append(km.inertia_)\n",
    "arr"
   ]
  },
  {
   "cell_type": "markdown",
   "id": "1b794528-b74f-4446-b1a2-23a1ce4dbdde",
   "metadata": {},
   "source": [
    "## Let's graph it"
   ]
  },
  {
   "cell_type": "code",
   "execution_count": 11,
   "id": "16113c6a-c198-411e-972e-63d68a230e59",
   "metadata": {},
   "outputs": [
    {
     "data": {
      "text/plain": [
       "[<matplotlib.lines.Line2D at 0x20595b9dbe0>]"
      ]
     },
     "execution_count": 11,
     "metadata": {},
     "output_type": "execute_result"
    },
    {
     "data": {
      "image/png": "[encoded data removed]",
      "text/plain": [
       "<Figure size 432x288 with 1 Axes>"
      ]
     },
     "metadata": {
      "needs_background": "light"
     },
     "output_type": "display_data"
    }
   ],
   "source": [
    "plt.xlabel('K')\n",
    "plt.ylabel(\"Sum of squared error\")\n",
    "plt.plot(range(1,10),arr)"
   ]
  },
  {
   "cell_type": "markdown",
   "id": "dab77126-4cba-46d1-9715-0da5d7033682",
   "metadata": {},
   "source": [
    "## Elbow is 3 "
   ]
  },
  {
   "cell_type": "markdown",
   "id": "8e21bef2-fe2c-445c-9298-96725b8f6771",
   "metadata": {},
   "source": [
    "## How to get dot product (multiply matrices)\n",
    "\n",
    "Given our matrices\n",
    "1. a = [[1,4,-2],[3,5,6]]  2x3\n",
    "1. b = [[5,2,8,-1],[3,6,4,5],[-2,9,7,-3]] 3x4\n",
    "1. We can get multiply  A * B because 2x**3** **3**x4\n",
    "1. We multiply **A**'s rows by **B**'s columns\n",
    "1. **To find out if we can multiply the two or not. The A's columns has to be the same as B's rows (In our case its 3x3)\n",
    "1. **However, we can't multiply B * A** because 3x4 2x3  **B**'s columns =/ **A**'s rows"
   ]
  },
  {
   "cell_type": "code",
   "execution_count": 12,
   "id": "96ef021c-108f-4869-92e5-7fe1dcb7a340",
   "metadata": {},
   "outputs": [
    {
     "data": {
      "text/plain": [
       "array([[21,  8, 10, 25],\n",
       "       [18, 90, 86,  4]])"
      ]
     },
     "execution_count": 12,
     "metadata": {},
     "output_type": "execute_result"
    }
   ],
   "source": [
    "a = [[1,4,-2],[3,5,6]]  # 2x3\n",
    "b = [[5,2,8,-1],[3,6,4,5],[-2,9,7,-3]] # 3x4\n",
    "# A * B = (A = 2x3) (B = 3x4) \n",
    "# We multiply rows by columns \n",
    "# [(1*5) + (4*3) + (-2 * -2),  (1 * 2) + (4*6) + (-2 * 9), (1 * 8) + (4 * 4) + (-2 * 7), (1 * -1) + (4 * 5) + (-2 * -3)]\n",
    "# [(3*5) + (5 * 3) + (6 * -2), (3 * 2) + (5 * 6) + (6 * 9), (3 * 8) + (5 * 4) + (6 * 7), (3 * -1) + (5 * 5) + (6 * -3)]\n",
    "# [5 + 12 + 4, 2 + 24 + -18, 8 + 16 + - 14, -1 + 20 + 6]\n",
    "# 15 + 15 + -12, 6 + 30 + 54, 24 + 20 + 42, -3 + 25 + -18\n",
    "# [21, 8, 10, 25]\n",
    "# [18, 90, 86, 4]\n",
    "\n",
    "np.dot(a,b)"
   ]
  },
  {
   "cell_type": "markdown",
   "id": "969598d5-0de4-4f05-bf72-c53adcee2d06",
   "metadata": {},
   "source": [
    "## How to transpose a matrix"
   ]
  },
  {
   "cell_type": "code",
   "execution_count": 13,
   "id": "b07c76cc-ef6f-4d9c-8474-a01c673c31cc",
   "metadata": {},
   "outputs": [
    {
     "name": "stdout",
     "output_type": "stream",
     "text": [
      "[[ 1  4]\n",
      " [ 3  5]\n",
      " [ 6  4]\n",
      " [ 4  2]\n",
      " [15 10]] = a\n",
      "\n",
      "[[ 1  3  6  4 15]\n",
      " [ 4  5  4  2 10]] = aT"
     ]
    }
   ],
   "source": [
    "a = np.array([[1,4],[3,5],[6,4],[4,2],[15,10]])\n",
    "\n",
    "print(a,end=\" = a\\n\\n\")\n",
    "print(a.T,end=\" = aT\")"
   ]
  },
  {
   "cell_type": "markdown",
   "id": "a00e0438-2bd6-4280-8df4-888c51863126",
   "metadata": {},
   "source": [
    "## Identity matrix\n",
    "1. I * A = A (no changes)\n",
    "1. A * I = A (no changes)\n",
    "1. Has to have same dimensions"
   ]
  },
  {
   "cell_type": "code",
   "execution_count": 14,
   "id": "d2925025-aecf-4e42-8a75-eebea6122402",
   "metadata": {},
   "outputs": [
    {
     "data": {
      "text/plain": [
       "array([[1, 2, 3],\n",
       "       [4, 5, 6],\n",
       "       [7, 8, 9]])"
      ]
     },
     "execution_count": 14,
     "metadata": {},
     "output_type": "execute_result"
    }
   ],
   "source": [
    "a = [[1,2,3],[4,5,6],[7,8,9]]  # 3x3\n",
    "b = [[1,0,0],[0,1,0],[0,0,1]] # 3x3\n",
    "\n",
    "np.dot(b,a)"
   ]
  },
  {
   "cell_type": "code",
   "execution_count": 19,
   "id": "143c596f-7757-4ef1-a2e5-e7714508b010",
   "metadata": {},
   "outputs": [
    {
     "data": {
      "text/plain": [
       "array([[34400, 50000, 64400]])"
      ]
     },
     "execution_count": 19,
     "metadata": {},
     "output_type": "execute_result"
    }
   ],
   "source": [
    "a = [[1000,400,1200]]  # 1x3\n",
    "b = [[30,40,50],[5,10,15],[2,5,7]] # 3x3\n",
    "# A * B = (A = 2x3) (B = 3x4) \n",
    "# We multiply rows by columns \n",
    "# [(1000 * 30) + (400*5) + (1200 * 2),  (1000 * 40) + (400*10) + (1200 * 5), (1000 * 50) + (400 * 15) + (1200 * 7)]\n",
    "# [30,000 + 2000 + 2400, 40,000 + 4000 + 6000, 50,000 + 6000 + 8400]\n",
    "# [34,400, 50,000, 64,400]\n",
    "\n",
    "np.dot(a,b)"
   ]
  },
  {
   "cell_type": "code",
   "execution_count": null,
   "id": "b64b8cef-01a9-484b-8be6-aa2b10b410ee",
   "metadata": {},
   "outputs": [],
   "source": []
  }
 ],
 "metadata": {
  "kernelspec": {
   "display_name": "Python 3 (ipykernel)",
   "language": "python",
   "name": "python3"
  },
  "language_info": {
   "codemirror_mode": {
    "name": "ipython",
    "version": 3
   },
   "file_extension": ".py",
   "mimetype": "text/x-python",
   "name": "python",
   "nbconvert_exporter": "python",
   "pygments_lexer": "ipython3",
   "version": "3.8.0"
  }
 },
 "nbformat": 4,
 "nbformat_minor": 5
}
