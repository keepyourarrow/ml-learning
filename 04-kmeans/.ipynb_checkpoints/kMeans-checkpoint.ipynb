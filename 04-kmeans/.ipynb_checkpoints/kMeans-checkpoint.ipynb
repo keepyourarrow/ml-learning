{
 "cells": [
  {
   "cell_type": "code",
   "execution_count": 154,
   "id": "934999cb-843f-424e-8db8-9fb07b223a69",
   "metadata": {},
   "outputs": [
    {
     "data": {
      "text/plain": [
       "['sepal length (cm)',\n",
       " 'sepal width (cm)',\n",
       " 'petal length (cm)',\n",
       " 'petal width (cm)']"
      ]
     },
     "execution_count": 154,
     "metadata": {},
     "output_type": "execute_result"
    }
   ],
   "source": [
    "import pandas as pd\n",
    "from sklearn.model_selection import train_test_split\n",
    "from sklearn import datasets\n",
    "\n",
    "import numpy as np\n",
    "from matplotlib import pyplot as plt\n",
    "iris = datasets.load_iris()\n",
    "iris.feature_names"
   ]
  },
  {
   "cell_type": "code",
   "execution_count": 155,
   "id": "b09b36c9-784e-40fa-821b-fa7442ff4455",
   "metadata": {},
   "outputs": [
    {
     "data": {
      "text/html": [
       "<div>\n",
       "<style scoped>\n",
       "    .dataframe tbody tr th:only-of-type {\n",
       "        vertical-align: middle;\n",
       "    }\n",
       "\n",
       "    .dataframe tbody tr th {\n",
       "        vertical-align: top;\n",
       "    }\n",
       "\n",
       "    .dataframe thead th {\n",
       "        text-align: right;\n",
       "    }\n",
       "</style>\n",
       "<table border=\"1\" class=\"dataframe\">\n",
       "  <thead>\n",
       "    <tr style=\"text-align: right;\">\n",
       "      <th></th>\n",
       "      <th>petal length (cm)</th>\n",
       "      <th>petal width (cm)</th>\n",
       "      <th>target</th>\n",
       "      <th>target_name</th>\n",
       "    </tr>\n",
       "  </thead>\n",
       "  <tbody>\n",
       "    <tr>\n",
       "      <th>0</th>\n",
       "      <td>1.4</td>\n",
       "      <td>0.2</td>\n",
       "      <td>0</td>\n",
       "      <td>setosa</td>\n",
       "    </tr>\n",
       "    <tr>\n",
       "      <th>1</th>\n",
       "      <td>1.4</td>\n",
       "      <td>0.2</td>\n",
       "      <td>0</td>\n",
       "      <td>setosa</td>\n",
       "    </tr>\n",
       "    <tr>\n",
       "      <th>2</th>\n",
       "      <td>1.3</td>\n",
       "      <td>0.2</td>\n",
       "      <td>0</td>\n",
       "      <td>setosa</td>\n",
       "    </tr>\n",
       "    <tr>\n",
       "      <th>3</th>\n",
       "      <td>1.5</td>\n",
       "      <td>0.2</td>\n",
       "      <td>0</td>\n",
       "      <td>setosa</td>\n",
       "    </tr>\n",
       "    <tr>\n",
       "      <th>4</th>\n",
       "      <td>1.4</td>\n",
       "      <td>0.2</td>\n",
       "      <td>0</td>\n",
       "      <td>setosa</td>\n",
       "    </tr>\n",
       "    <tr>\n",
       "      <th>...</th>\n",
       "      <td>...</td>\n",
       "      <td>...</td>\n",
       "      <td>...</td>\n",
       "      <td>...</td>\n",
       "    </tr>\n",
       "    <tr>\n",
       "      <th>145</th>\n",
       "      <td>5.2</td>\n",
       "      <td>2.3</td>\n",
       "      <td>2</td>\n",
       "      <td>virginica</td>\n",
       "    </tr>\n",
       "    <tr>\n",
       "      <th>146</th>\n",
       "      <td>5.0</td>\n",
       "      <td>1.9</td>\n",
       "      <td>2</td>\n",
       "      <td>virginica</td>\n",
       "    </tr>\n",
       "    <tr>\n",
       "      <th>147</th>\n",
       "      <td>5.2</td>\n",
       "      <td>2.0</td>\n",
       "      <td>2</td>\n",
       "      <td>virginica</td>\n",
       "    </tr>\n",
       "    <tr>\n",
       "      <th>148</th>\n",
       "      <td>5.4</td>\n",
       "      <td>2.3</td>\n",
       "      <td>2</td>\n",
       "      <td>virginica</td>\n",
       "    </tr>\n",
       "    <tr>\n",
       "      <th>149</th>\n",
       "      <td>5.1</td>\n",
       "      <td>1.8</td>\n",
       "      <td>2</td>\n",
       "      <td>virginica</td>\n",
       "    </tr>\n",
       "  </tbody>\n",
       "</table>\n",
       "<p>150 rows × 4 columns</p>\n",
       "</div>"
      ],
      "text/plain": [
       "     petal length (cm)  petal width (cm)  target target_name\n",
       "0                  1.4               0.2       0      setosa\n",
       "1                  1.4               0.2       0      setosa\n",
       "2                  1.3               0.2       0      setosa\n",
       "3                  1.5               0.2       0      setosa\n",
       "4                  1.4               0.2       0      setosa\n",
       "..                 ...               ...     ...         ...\n",
       "145                5.2               2.3       2   virginica\n",
       "146                5.0               1.9       2   virginica\n",
       "147                5.2               2.0       2   virginica\n",
       "148                5.4               2.3       2   virginica\n",
       "149                5.1               1.8       2   virginica\n",
       "\n",
       "[150 rows x 4 columns]"
      ]
     },
     "execution_count": 155,
     "metadata": {},
     "output_type": "execute_result"
    }
   ],
   "source": [
    "df = pd.DataFrame(iris.data, columns=iris.feature_names)\n",
    "df.drop(labels=[\"sepal length (cm)\",\"sepal width (cm)\"],axis=1, inplace=True)\n",
    "df['target'] = iris.target\n",
    "df['target_name'] = df.target.apply(lambda x: iris.target_names[x])\n",
    "df"
   ]
  },
  {
   "cell_type": "markdown",
   "id": "387d7b7e-cf58-473c-a4e3-55d3bb055b35",
   "metadata": {},
   "source": [
    "## plot on the graph"
   ]
  },
  {
   "cell_type": "code",
   "execution_count": 156,
   "id": "93c7585f-fcab-4a9b-a277-18f8c3b25889",
   "metadata": {
    "tags": []
   },
   "outputs": [
    {
     "data": {
      "image/png": "[encoded data removed]",
      "text/plain": [
       "<Figure size 432x288 with 1 Axes>"
      ]
     },
     "metadata": {
      "needs_background": "light"
     },
     "output_type": "display_data"
    }
   ],
   "source": [
    "df1 = df[df['target'] == 0]\n",
    "df2 = df[df['target'] == 1]\n",
    "df3 = df[df['target'] == 2]\n",
    "plt.scatter(df1['petal length (cm)'], df1['petal width (cm)'], color=\"green\", label=df1.iloc[1:2,:]['target_name'].to_string(index=False))\n",
    "plt.scatter(df2['petal length (cm)'], df2['petal width (cm)'], color=\"blue\", label=df2.iloc[1:2,:]['target_name'].to_string(index=False))\n",
    "plt.scatter(df3['petal length (cm)'], df3['petal width (cm)'], color=\"red\",label=df3.iloc[1:2,:]['target_name'].to_string(index=False))\n",
    "plt.xlabel('petal length (cm)')\n",
    "plt.ylabel('petal width (cm)')\n",
    "plt.legend()\n",
    "plt.show()"
   ]
  },
  {
   "cell_type": "code",
   "execution_count": 157,
   "id": "b2e0ecc6-2343-4c7d-acbd-a14d3837dca6",
   "metadata": {
    "tags": []
   },
   "outputs": [
    {
     "name": "stdout",
     "output_type": "stream",
     "text": [
      "[1 1 1 1 1 1 1 1 1 1 1 1 1 1 1 1 1 1 1 1 1 1 1 1 1 1 1 1 1 1 1 1 1 1 1 1 1\n",
      " 1 1 1 1 1 1 1 1 1 1 1 1 1 2 2 2 2 2 2 2 2 2 2 2 2 2 2 2 2 2 2 2 2 2 2 2 2\n",
      " 2 2 2 0 2 2 2 2 2 0 2 2 2 2 2 2 2 2 2 2 2 2 2 2 2 2 0 0 0 0 0 0 2 0 0 0 0\n",
      " 0 0 0 0 0 0 0 0 2 0 0 0 0 0 0 2 0 0 0 0 0 0 0 0 0 0 0 2 0 0 0 0 0 0 0 0 0\n",
      " 0 0]\n"
     ]
    }
   ],
   "source": [
    "from sklearn.cluster import KMeans\n",
    "km = KMeans(n_clusters=3)\n",
    "\n",
    "prediction_data = df.iloc[:,:2]\n",
    "y_predicted = km.fit_predict(prediction_data)\n",
    "print(y_predicted)"
   ]
  },
  {
   "cell_type": "code",
   "execution_count": 158,
   "id": "f1ef7bd4-f014-444a-9f24-9d9391b077de",
   "metadata": {
    "tags": []
   },
   "outputs": [
    {
     "data": {
      "image/png": "[encoded data removed]",
      "text/plain": [
       "<Figure size 432x288 with 1 Axes>"
      ]
     },
     "metadata": {
      "needs_background": "light"
     },
     "output_type": "display_data"
    }
   ],
   "source": [
    "df['cluster'] = y_predicted\n",
    "centroids = km.cluster_centers_\n",
    "\n",
    "\n",
    "df1 = df[df.cluster==0]\n",
    "df2 = df[df.cluster==1]\n",
    "df3 = df[df.cluster==2]\n",
    "\n",
    "plt.scatter(df1['petal length (cm)'], df1['petal width (cm)'], color=\"green\", label=df1.iloc[1:2,:]['target_name'].to_string(index=False))\n",
    "plt.scatter(df2['petal length (cm)'], df2['petal width (cm)'], color=\"blue\", label=df2.iloc[1:2,:]['target_name'].to_string(index=False))\n",
    "plt.scatter(df3['petal length (cm)'], df3['petal width (cm)'], color=\"red\",label=df3.iloc[1:2,:]['target_name'].to_string(index=False))\n",
    "plt.scatter(centroids[:,0], centroids[:,:1],color='black', marker=\"*\", linewidths=10)\n",
    "\n",
    "plt.xlabel('petal length (cm)')\n",
    "plt.ylabel('petal width (cm)')\n",
    "plt.legend()\n",
    "plt.show()"
   ]
  },
  {
   "cell_type": "markdown",
   "id": "13f49ce5-dbb2-4364-ae78-44040c7c6a6d",
   "metadata": {},
   "source": [
    "## Lets try scaling and see if that helps"
   ]
  },
  {
   "cell_type": "code",
   "execution_count": 159,
   "id": "f367085c-cb4f-431e-be7f-681e1b83237e",
   "metadata": {
    "tags": []
   },
   "outputs": [
    {
     "name": "stdout",
     "output_type": "stream",
     "text": [
      "     petal length (cm)  petal width (cm)  target target_name  cluster\n",
      "0             0.067797          0.041667       0      setosa        1\n",
      "1             0.067797          0.041667       0      setosa        1\n",
      "2             0.050847          0.041667       0      setosa        1\n",
      "3             0.084746          0.041667       0      setosa        1\n",
      "4             0.067797          0.041667       0      setosa        1\n",
      "..                 ...               ...     ...         ...      ...\n",
      "145           0.711864          0.916667       2   virginica        0\n",
      "146           0.677966          0.750000       2   virginica        0\n",
      "147           0.711864          0.791667       2   virginica        0\n",
      "148           0.745763          0.916667       2   virginica        0\n",
      "149           0.694915          0.708333       2   virginica        0\n",
      "\n",
      "[150 rows x 5 columns]\n"
     ]
    }
   ],
   "source": [
    "from sklearn.preprocessing import MinMaxScaler\n",
    "\n",
    "scaler = MinMaxScaler()\n",
    "\n",
    "scaler.fit(df[['petal length (cm)']])\n",
    "df['petal length (cm)'] = scaler.transform(df[['petal length (cm)']])\n",
    "scaler.fit(df[['petal width (cm)']])\n",
    "df['petal width (cm)'] = scaler.transform(df[['petal width (cm)']])\n",
    "print(df)\n"
   ]
  },
  {
   "cell_type": "code",
   "execution_count": 160,
   "id": "a4bd4eaa-1d78-4fea-a56c-7da9c36653e1",
   "metadata": {
    "tags": []
   },
   "outputs": [
    {
     "name": "stdout",
     "output_type": "stream",
     "text": [
      "[1 1 1 1 1 1 1 1 1 1 1 1 1 1 1 1 1 1 1 1 1 1 1 1 1 1 1 1 1 1 1 1 1 1 1 1 1\n",
      " 1 1 1 1 1 1 1 1 1 1 1 1 1 2 2 2 2 2 2 2 2 2 2 2 2 2 2 2 2 2 2 2 2 0 2 2 2\n",
      " 2 2 2 0 2 2 2 2 2 2 2 2 2 2 2 2 2 2 2 2 2 2 2 2 2 2 0 0 0 0 0 0 2 0 0 0 0\n",
      " 0 0 0 0 0 0 0 0 2 0 0 0 0 0 0 0 0 0 0 0 0 0 2 2 0 0 0 0 0 0 0 0 0 0 0 0 0\n",
      " 0 0]\n"
     ]
    }
   ],
   "source": [
    "km = KMeans(n_clusters=3)\n",
    "\n",
    "prediction_data = df.iloc[:,:2]\n",
    "y_predicted = km.fit_predict(prediction_data)\n",
    "print(y_predicted)"
   ]
  },
  {
   "cell_type": "code",
   "execution_count": 161,
   "id": "6cca0bf0-1dc5-4d77-8a2d-293de9229bc2",
   "metadata": {
    "tags": []
   },
   "outputs": [
    {
     "data": {
      "image/png": "[encoded data removed]",
      "text/plain": [
       "<Figure size 432x288 with 1 Axes>"
      ]
     },
     "metadata": {
      "needs_background": "light"
     },
     "output_type": "display_data"
    }
   ],
   "source": [
    "df['cluster'] = y_predicted\n",
    "centroids = km.cluster_centers_\n",
    "\n",
    "df1 = df[df.cluster==0]\n",
    "df2 = df[df.cluster==1]\n",
    "df3 = df[df.cluster==2]\n",
    "\n",
    "plt.scatter(df1['petal length (cm)'], df1['petal width (cm)'], color=\"green\", label=df1.iloc[1:2,:]['target_name'].to_string(index=False))\n",
    "plt.scatter(df2['petal length (cm)'], df2['petal width (cm)'], color=\"blue\", label=df2.iloc[1:2,:]['target_name'].to_string(index=False))\n",
    "plt.scatter(df3['petal length (cm)'], df3['petal width (cm)'], color=\"red\",label=df3.iloc[1:2,:]['target_name'].to_string(index=False))\n",
    "plt.scatter(centroids[:,0], centroids[:,:1],color='black', marker=\"*\", linewidths=10)\n",
    "plt.xlabel('petal length (cm)')\n",
    "plt.ylabel('petal width (cm)')\n",
    "plt.legend()\n",
    "plt.show()"
   ]
  },
  {
   "cell_type": "markdown",
   "id": "455fae6e-6b3e-43ca-829a-c3525466ec33",
   "metadata": {},
   "source": [
    "## IT didn't help :("
   ]
  },
  {
   "cell_type": "markdown",
   "id": "fe12111f-d22a-42af-93f7-d7aaa90705d8",
   "metadata": {},
   "source": [
    "## Let's try Elbow now"
   ]
  },
  {
   "cell_type": "code",
   "execution_count": null,
   "id": "0c69d85d-0d0a-4bd7-8c90-27ed68fdd257",
   "metadata": {},
   "outputs": [],
   "source": []
  },
  {
   "cell_type": "code",
   "execution_count": null,
   "id": "16113c6a-c198-411e-972e-63d68a230e59",
   "metadata": {},
   "outputs": [],
   "source": []
  },
  {
   "cell_type": "code",
   "execution_count": null,
   "id": "ea378afa-7ced-473d-9eab-5a718b6b1f01",
   "metadata": {},
   "outputs": [],
   "source": []
  },
  {
   "cell_type": "code",
   "execution_count": null,
   "id": "6f51f2ab-9920-411c-ba60-d43572c24a4e",
   "metadata": {},
   "outputs": [],
   "source": []
  }
 ],
 "metadata": {
  "kernelspec": {
   "display_name": "Python 3 (ipykernel)",
   "language": "python",
   "name": "python3"
  },
  "language_info": {
   "codemirror_mode": {
    "name": "ipython",
    "version": 3
   },
   "file_extension": ".py",
   "mimetype": "text/x-python",
   "name": "python",
   "nbconvert_exporter": "python",
   "pygments_lexer": "ipython3",
   "version": "3.8.0"
  }
 },
 "nbformat": 4,
 "nbformat_minor": 5
}
