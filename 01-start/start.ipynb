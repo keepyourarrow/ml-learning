{
 "cells": [
  {
   "cell_type": "code",
   "execution_count": 2,
   "id": "1377a6be",
   "metadata": {},
   "outputs": [],
   "source": [
    "import sys\n",
    "import scipy\n",
    "import numpy\n",
    "import matplotlib\n",
    "import pandas\n",
    "import sklearn"
   ]
  },
  {
   "cell_type": "code",
   "execution_count": 3,
   "id": "5fc6452b",
   "metadata": {},
   "outputs": [],
   "source": [
    "#load libraries\n",
    "import pandas\n",
    "from pandas.plotting import scatter_matrix\n",
    "import matplotlib.pyplot as plt\n",
    "from sklearn import model_selection\n",
    "from sklearn.metrics import classification_report\n",
    "from sklearn.metrics import confusion_matrix\n",
    "from sklearn.metrics import accuracy_score\n",
    "from sklearn.linear_model import LogisticRegression\n",
    "from sklearn.tree import DecisionTreeClassifier\n",
    "from sklearn.neighbors import KNeighborsClassifier\n",
    "from sklearn.discriminant_analysis import LinearDiscriminantAnalysis\n",
    "from sklearn.naive_bayes import GaussianNB\n",
    "from sklearn.svm import SVC"
   ]
  },
  {
   "cell_type": "code",
   "execution_count": 4,
   "id": "93362820",
   "metadata": {},
   "outputs": [],
   "source": [
    "url = \"https://archive.ics.uci.edu/ml/machine-learning-databases/iris/iris.data\"\n",
    "names = ['sepal-length', 'sepal-width', 'petal-length','petal-width','class']\n",
    "dataset = pandas.read_csv(url, names = names)"
   ]
  },
  {
   "cell_type": "code",
   "execution_count": 5,
   "id": "f15b1a6b",
   "metadata": {},
   "outputs": [
    {
     "name": "stdout",
     "output_type": "stream",
     "text": [
      "(150, 5)\n"
     ]
    }
   ],
   "source": [
    "print(dataset.shape)"
   ]
  },
  {
   "cell_type": "code",
   "execution_count": 6,
   "id": "54edb2db",
   "metadata": {},
   "outputs": [
    {
     "name": "stdout",
     "output_type": "stream",
     "text": [
      "    sepal-length  sepal-width  petal-length  petal-width            class\n",
      "0            5.1          3.5           1.4          0.2      Iris-setosa\n",
      "1            4.9          3.0           1.4          0.2      Iris-setosa\n",
      "2            4.7          3.2           1.3          0.2      Iris-setosa\n",
      "3            4.6          3.1           1.5          0.2      Iris-setosa\n",
      "4            5.0          3.6           1.4          0.2      Iris-setosa\n",
      "..           ...          ...           ...          ...              ...\n",
      "70           5.9          3.2           4.8          1.8  Iris-versicolor\n",
      "71           6.1          2.8           4.0          1.3  Iris-versicolor\n",
      "72           6.3          2.5           4.9          1.5  Iris-versicolor\n",
      "73           6.1          2.8           4.7          1.2  Iris-versicolor\n",
      "74           6.4          2.9           4.3          1.3  Iris-versicolor\n",
      "\n",
      "[75 rows x 5 columns]\n"
     ]
    }
   ],
   "source": [
    "print(dataset.head(75))"
   ]
  },
  {
   "cell_type": "code",
   "execution_count": 7,
   "id": "b5b905f1",
   "metadata": {},
   "outputs": [
    {
     "name": "stdout",
     "output_type": "stream",
     "text": [
      "       sepal-length  sepal-width  petal-length  petal-width\n",
      "count    150.000000   150.000000    150.000000   150.000000\n",
      "mean       5.843333     3.054000      3.758667     1.198667\n",
      "std        0.828066     0.433594      1.764420     0.763161\n",
      "min        4.300000     2.000000      1.000000     0.100000\n",
      "25%        5.100000     2.800000      1.600000     0.300000\n",
      "50%        5.800000     3.000000      4.350000     1.300000\n",
      "75%        6.400000     3.300000      5.100000     1.800000\n",
      "max        7.900000     4.400000      6.900000     2.500000\n"
     ]
    }
   ],
   "source": [
    "print(dataset.describe())"
   ]
  },
  {
   "cell_type": "code",
   "execution_count": 8,
   "id": "31c4588b",
   "metadata": {},
   "outputs": [
    {
     "name": "stdout",
     "output_type": "stream",
     "text": [
      "class\n",
      "Iris-setosa        50\n",
      "Iris-versicolor    50\n",
      "Iris-virginica     50\n",
      "dtype: int64\n"
     ]
    }
   ],
   "source": [
    "print(dataset.groupby('class').size())"
   ]
  },
  {
   "cell_type": "code",
   "execution_count": 9,
   "id": "35ef4844",
   "metadata": {},
   "outputs": [
    {
     "name": "stdout",
     "output_type": "stream",
     "text": [
      "petal-width\n",
      "0.1     6\n",
      "0.2    28\n",
      "0.3     7\n",
      "0.4     7\n",
      "0.5     1\n",
      "0.6     1\n",
      "1.0     7\n",
      "1.1     3\n",
      "1.2     5\n",
      "1.3    13\n",
      "1.4     8\n",
      "1.5    12\n",
      "1.6     4\n",
      "1.7     2\n",
      "1.8    12\n",
      "1.9     5\n",
      "2.0     6\n",
      "2.1     6\n",
      "2.2     3\n",
      "2.3     8\n",
      "2.4     3\n",
      "2.5     3\n",
      "dtype: int64\n"
     ]
    }
   ],
   "source": [
    "print(dataset.groupby('petal-width').size())"
   ]
  },
  {
   "cell_type": "markdown",
   "id": "191d57c5-8cd2-47a3-b52b-068dc0816088",
   "metadata": {},
   "source": [
    "## All null values"
   ]
  },
  {
   "cell_type": "code",
   "execution_count": 11,
   "id": "07c52ab9",
   "metadata": {},
   "outputs": [
    {
     "name": "stdout",
     "output_type": "stream",
     "text": [
      "sepal-length    0\n",
      "sepal-width     0\n",
      "petal-length    0\n",
      "petal-width     0\n",
      "class           0\n",
      "dtype: int64\n"
     ]
    }
   ],
   "source": [
    "print(dataset.isnull().sum())"
   ]
  },
  {
   "cell_type": "markdown",
   "id": "eafc87f2-21a7-4f48-9ddb-813137d0a5ef",
   "metadata": {},
   "source": [
    "## Dropping"
   ]
  },
  {
   "cell_type": "code",
   "execution_count": 13,
   "id": "437b540c-efdf-4bbb-902b-167b651e40f2",
   "metadata": {},
   "outputs": [
    {
     "name": "stdout",
     "output_type": "stream",
     "text": [
      "     sepal-length  sepal-width  petal-width           class\n",
      "0             5.1          3.5          0.2     Iris-setosa\n",
      "1             4.9          3.0          0.2     Iris-setosa\n",
      "2             4.7          3.2          0.2     Iris-setosa\n",
      "3             4.6          3.1          0.2     Iris-setosa\n",
      "4             5.0          3.6          0.2     Iris-setosa\n",
      "..            ...          ...          ...             ...\n",
      "145           6.7          3.0          2.3  Iris-virginica\n",
      "146           6.3          2.5          1.9  Iris-virginica\n",
      "147           6.5          3.0          2.0  Iris-virginica\n",
      "148           6.2          3.4          2.3  Iris-virginica\n",
      "149           5.9          3.0          1.8  Iris-virginica\n",
      "\n",
      "[150 rows x 4 columns]\n"
     ]
    }
   ],
   "source": [
    "print(dataset.drop('petal-length',axis='columns')) # Add inplace=True to apply and not have to assign as a variable"
   ]
  },
  {
   "cell_type": "markdown",
   "id": "295d71df-c618-44bd-be0e-e07c06e9f0ed",
   "metadata": {},
   "source": [
    "## Slicing"
   ]
  },
  {
   "cell_type": "code",
   "execution_count": 14,
   "id": "dfb83c2b-4d9d-42bb-bb4f-07f1b3435e21",
   "metadata": {},
   "outputs": [
    {
     "name": "stdout",
     "output_type": "stream",
     "text": [
      "     sepal-length\n",
      "0             5.1\n",
      "1             4.9\n",
      "2             4.7\n",
      "3             4.6\n",
      "4             5.0\n",
      "..            ...\n",
      "145           6.7\n",
      "146           6.3\n",
      "147           6.5\n",
      "148           6.2\n",
      "149           5.9\n",
      "\n",
      "[150 rows x 1 columns]\n"
     ]
    }
   ],
   "source": [
    "print(dataset.iloc[:,0:1])"
   ]
  },
  {
   "cell_type": "markdown",
   "id": "6d9e2a02-6aab-4a68-8710-252556e6c7c3",
   "metadata": {},
   "source": [
    "## Find specific"
   ]
  },
  {
   "cell_type": "code",
   "execution_count": null,
   "id": "66c0ad5b-0461-48ce-be55-a22cb28cce44",
   "metadata": {},
   "outputs": [
    {
     "name": "stdout",
     "output_type": "stream",
     "text": [
      "    sepal-length  sepal-width  petal-length  petal-width            class\n",
      "0            5.1          3.5           1.4          0.2      Iris-setosa\n",
      "17           5.1          3.5           1.4          0.3      Iris-setosa\n",
      "19           5.1          3.8           1.5          0.3      Iris-setosa\n",
      "21           5.1          3.7           1.5          0.4      Iris-setosa\n",
      "23           5.1          3.3           1.7          0.5      Iris-setosa\n",
      "39           5.1          3.4           1.5          0.2      Iris-setosa\n",
      "44           5.1          3.8           1.9          0.4      Iris-setosa\n",
      "46           5.1          3.8           1.6          0.2      Iris-setosa\n",
      "98           5.1          2.5           3.0          1.1  Iris-versicolor\n",
      "sepal-length    9\n",
      "sepal-width     9\n",
      "petal-length    9\n",
      "petal-width     9\n",
      "class           9\n",
      "dtype: int64\n"
     ]
    }
   ],
   "source": [
    "print(dataset[dataset['sepal-length']== 5.1])\n",
    "print(dataset[dataset['sepal-length']== 5.1].count())"
   ]
  },
  {
   "cell_type": "markdown",
   "id": "12eed27d-dc4a-458e-9ba2-9fe47f813bf3",
   "metadata": {},
   "source": [
    "## Sorting"
   ]
  },
  {
   "cell_type": "code",
   "execution_count": 27,
   "id": "5bdf5500-493d-4e69-adb9-a35a427372fc",
   "metadata": {},
   "outputs": [
    {
     "name": "stdout",
     "output_type": "stream",
     "text": [
      "     sepal-length  sepal-width  petal-length  petal-width           class\n",
      "13            4.3          3.0           1.1          0.1     Iris-setosa\n",
      "42            4.4          3.2           1.3          0.2     Iris-setosa\n",
      "38            4.4          3.0           1.3          0.2     Iris-setosa\n",
      "8             4.4          2.9           1.4          0.2     Iris-setosa\n",
      "41            4.5          2.3           1.3          0.3     Iris-setosa\n",
      "..            ...          ...           ...          ...             ...\n",
      "122           7.7          2.8           6.7          2.0  Iris-virginica\n",
      "118           7.7          2.6           6.9          2.3  Iris-virginica\n",
      "117           7.7          3.8           6.7          2.2  Iris-virginica\n",
      "135           7.7          3.0           6.1          2.3  Iris-virginica\n",
      "131           7.9          3.8           6.4          2.0  Iris-virginica\n",
      "\n",
      "[150 rows x 5 columns]\n",
      "     sepal-length  sepal-width  petal-length  petal-width           class\n",
      "131           7.9          3.8           6.4          2.0  Iris-virginica\n",
      "135           7.7          3.0           6.1          2.3  Iris-virginica\n",
      "122           7.7          2.8           6.7          2.0  Iris-virginica\n",
      "117           7.7          3.8           6.7          2.2  Iris-virginica\n",
      "118           7.7          2.6           6.9          2.3  Iris-virginica\n",
      "..            ...          ...           ...          ...             ...\n",
      "41            4.5          2.3           1.3          0.3     Iris-setosa\n",
      "42            4.4          3.2           1.3          0.2     Iris-setosa\n",
      "38            4.4          3.0           1.3          0.2     Iris-setosa\n",
      "8             4.4          2.9           1.4          0.2     Iris-setosa\n",
      "13            4.3          3.0           1.1          0.1     Iris-setosa\n",
      "\n",
      "[150 rows x 5 columns]\n"
     ]
    }
   ],
   "source": [
    "print(dataset.sort_values(by=\"sepal-length\"))\n",
    "print(dataset.sort_values(by=\"sepal-length\", ascending=False))"
   ]
  },
  {
   "cell_type": "markdown",
   "id": "886bf8ed-c343-4060-9ccd-33b93702f175",
   "metadata": {},
   "source": [
    "## unique values"
   ]
  },
  {
   "cell_type": "code",
   "execution_count": 29,
   "id": "45683365-3b89-4360-98b9-072370d37e2a",
   "metadata": {},
   "outputs": [
    {
     "name": "stdout",
     "output_type": "stream",
     "text": [
      "[5.1 4.9 4.7 4.6 5.  5.4 4.4 4.8 4.3 5.8 5.7 5.2 5.5 4.5 5.3 7.  6.4 6.9\n",
      " 6.5 6.3 6.6 5.9 6.  6.1 5.6 6.7 6.2 6.8 7.1 7.6 7.3 7.2 7.7 7.4 7.9]\n"
     ]
    }
   ],
   "source": [
    "print(dataset['sepal-length'].unique())"
   ]
  },
  {
   "cell_type": "code",
   "execution_count": null,
   "id": "9bc1ba90-665d-4c09-93b5-ce48a0600012",
   "metadata": {},
   "outputs": [],
   "source": []
  }
 ],
 "metadata": {
  "kernelspec": {
   "display_name": "Python 3 (ipykernel)",
   "language": "python",
   "name": "python3"
  },
  "language_info": {
   "codemirror_mode": {
    "name": "ipython",
    "version": 3
   },
   "file_extension": ".py",
   "mimetype": "text/x-python",
   "name": "python",
   "nbconvert_exporter": "python",
   "pygments_lexer": "ipython3",
   "version": "3.8.0"
  }
 },
 "nbformat": 4,
 "nbformat_minor": 5
}
