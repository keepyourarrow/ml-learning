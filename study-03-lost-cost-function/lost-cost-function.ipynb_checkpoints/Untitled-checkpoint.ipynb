{
 "cells": [
  {
   "cell_type": "code",
   "execution_count": 1,
   "id": "0bc56bb5-a948-41de-8400-704b60f510b9",
   "metadata": {},
   "outputs": [],
   "source": [
    "import numpy as np"
   ]
  },
  {
   "cell_type": "markdown",
   "id": "ba5d0afc-963f-4674-ba0c-e26d4e06d61a",
   "metadata": {},
   "source": [
    "## Why numpy and not a normal array?\n",
    "1. To have unique methods like np.dot"
   ]
  },
  {
   "cell_type": "code",
   "execution_count": 4,
   "id": "37119cf8-1a8f-4363-9d95-ed9a100184ac",
   "metadata": {},
   "outputs": [],
   "source": [
    "y_pred = np.array([1,1,0,0,1]) # what our model predicted\n",
    "y_true = np.array([0.30,0.50,1,0,0.5]) # actual results"
   ]
  },
  {
   "cell_type": "markdown",
   "id": "dffc65ff-8d3d-4830-a1f5-8919a40ab387",
   "metadata": {},
   "source": [
    "## Mean absolute error"
   ]
  },
  {
   "cell_type": "code",
   "execution_count": 9,
   "id": "6408cb79-515f-47ab-b206-b83754960d92",
   "metadata": {},
   "outputs": [
    {
     "name": "stdout",
     "output_type": "stream",
     "text": [
      "Total_error: 2.7\n",
      "mean_absolute_error: 0.54\n",
      "Total error with numpy 2.7\n",
      "mean_absolute_error with numpy 0.54\n"
     ]
    }
   ],
   "source": [
    "def mean_absolute_error(y_pred, y_true):\n",
    "    total_error = 0\n",
    "    \n",
    "    # when both of your arrays are the same length, and you want to iterate over both at the same time\n",
    "    # zip is great\n",
    "    for y_p, y_t in zip(y_pred,y_true):\n",
    "        total_error += abs(y_p - y_t)\n",
    "    \n",
    "    print(\"Total_error:\",total_error)\n",
    "    mean_err = total_error / len(y_pred) # both y_pred and y_true have the same length\n",
    "    print(\"mean_absolute_error:\",mean_err)\n",
    "    \n",
    "    # We can also rewrite it using numpy very simple\n",
    "    \n",
    "    print(\"Total error with numpy\",np.sum(np.abs(y_pred - y_true)))\n",
    "    print(\"mean_absolute_error with numpy\",np.mean(np.abs(y_pred - y_true)))\n",
    "\n",
    "\n",
    "mean_absolute_error(y_pred,y_true)"
   ]
  },
  {
   "cell_type": "markdown",
   "id": "9e4087c3-37ff-4b0d-86ad-767c080e3221",
   "metadata": {},
   "source": [
    "## Mean squared error"
   ]
  },
  {
   "cell_type": "code",
   "execution_count": 28,
   "id": "466906f7-de04-4b81-9f9e-c5485e6e80db",
   "metadata": {},
   "outputs": [
    {
     "name": "stdout",
     "output_type": "stream",
     "text": [
      "9\n",
      "Total_error: 1.99\n",
      "mean_absolute_error: 0.398\n",
      "Total error with numpy 1.99\n",
      "mean_absolute_error with numpy 0.398\n"
     ]
    }
   ],
   "source": [
    "import math\n",
    "print(3 ** 2)\n",
    "def mean_squared_error(y_pred, y_true):\n",
    "    total_error = 0\n",
    "    \n",
    "    # when both of your arrays are the same length, and you want to iterate over both at the same time\n",
    "    # zip is great\n",
    "    for y_p, y_t in zip(y_pred,y_true):\n",
    "        total_error += (y_p - y_t) ** 2\n",
    "    \n",
    "    print(\"Total_error:\",total_error)\n",
    "    mean_err = total_error / len(y_pred) # both y_pred and y_true have the same length\n",
    "    print(\"mean_absolute_error:\",mean_err)\n",
    "    \n",
    "    # We can also rewrite it using numpy very simple\n",
    "    \n",
    "    print(\"Total error with numpy\",np.sum(np.square(y_pred - y_true)))\n",
    "    print(\"mean_absolute_error with numpy\",np.mean(np.square(y_pred - y_true)))\n",
    "\n",
    "\n",
    "mean_squared_error(y_pred,y_true)"
   ]
  },
  {
   "cell_type": "markdown",
   "id": "84ec0088-605d-4b69-a5da-e90639b99675",
   "metadata": {},
   "source": [
    "## Log loss\n",
    "1. Since you can't log(0) and log(1)\n",
    "1. You need to make it as close to 0 and as close to 1 as possible\n",
    "1. log(0.000001) is ok (0.999999999) is ok\n",
    "1. Why 1 is bad?\n",
    "1. Say our y = 1 log(1 - y) log (1-1) log(0) and you can't log 0"
   ]
  },
  {
   "cell_type": "code",
   "execution_count": 33,
   "id": "8f082782-182d-4035-9bbf-fa51f153acfa",
   "metadata": {},
   "outputs": [
    {
     "name": "stderr",
     "output_type": "stream",
     "text": [
      "C:\\Users\\dima_\\AppData\\Local\\Temp/ipykernel_17164/262464415.py:1: RuntimeWarning: divide by zero encountered in log\n",
      "  np.log([0])\n"
     ]
    },
    {
     "data": {
      "text/plain": [
       "array([-inf])"
      ]
     },
     "execution_count": 33,
     "metadata": {},
     "output_type": "execute_result"
    }
   ],
   "source": [
    "np.log([0])"
   ]
  },
  {
   "cell_type": "markdown",
   "id": "f959da5b-7eb9-4fed-a538-69ee76a87f11",
   "metadata": {},
   "source": [
    "## Define epsilon"
   ]
  },
  {
   "cell_type": "code",
   "execution_count": 35,
   "id": "34d460ce-047c-4d34-aa96-a13aefbcada9",
   "metadata": {},
   "outputs": [],
   "source": [
    "epsilon = 1e-15"
   ]
  },
  {
   "cell_type": "code",
   "execution_count": 40,
   "id": "b8684b17-dad3-4a5d-af4f-d1fe5a5a73b2",
   "metadata": {},
   "outputs": [
    {
     "name": "stdout",
     "output_type": "stream",
     "text": [
      "y_pred [1 1 0 0 1]\n",
      "change_y_pred [1, 1, 1e-15, 1e-15, 1]\n"
     ]
    }
   ],
   "source": [
    "changed_y_pred = [max(i,epsilon) for i in y_pred]\n",
    "print(\"y_pred\",y_pred)\n",
    "print(\"change_y_pred\",changed_y_pred)"
   ]
  },
  {
   "cell_type": "markdown",
   "id": "1d1598c8-cf2f-4860-b65c-cf981ec9089a",
   "metadata": {},
   "source": [
    "## We replaced 0s, now lets replace 1s"
   ]
  },
  {
   "cell_type": "code",
   "execution_count": 50,
   "id": "3eec5e36-5fe3-4e51-9657-98ae2aee1cca",
   "metadata": {},
   "outputs": [
    {
     "name": "stdout",
     "output_type": "stream",
     "text": [
      "y_pred [1 1 0 0 1]\n",
      "change_y_pred [0.999999999999999, 0.999999999999999, 1e-15, 1e-15, 0.999999999999999]\n"
     ]
    }
   ],
   "source": [
    "changed_y_pred = [min(i,1-epsilon) for i in changed_y_pred]\n",
    "print(\"y_pred\",y_pred)\n",
    "print(\"change_y_pred\",changed_y_pred)"
   ]
  },
  {
   "cell_type": "code",
   "execution_count": 51,
   "id": "457a55b9-bd1e-4755-aae3-acbed7dc81f6",
   "metadata": {},
   "outputs": [
    {
     "data": {
      "text/plain": [
       "array([-9.99200722e-16, -9.99200722e-16, -3.45387764e+01, -3.45387764e+01,\n",
       "       -9.99200722e-16])"
      ]
     },
     "execution_count": 51,
     "metadata": {},
     "output_type": "execute_result"
    }
   ],
   "source": [
    "np.log(changed_y_pred)"
   ]
  },
  {
   "cell_type": "code",
   "execution_count": 55,
   "id": "db238ef9-198c-4689-83d4-1f937b4b2c87",
   "metadata": {},
   "outputs": [
    {
     "data": {
      "text/plain": [
       "18.651211116378033"
      ]
     },
     "execution_count": 55,
     "metadata": {},
     "output_type": "execute_result"
    }
   ],
   "source": [
    "changed_y_pred = np.array(changed_y_pred) ## convert to numpy array otherwise its gonna be mad\n",
    "-np.mean(y_true * np.log(changed_y_pred) + (1-y_true) * np.log(1 - changed_y_pred))"
   ]
  },
  {
   "cell_type": "markdown",
   "id": "b08f5373-5d49-48fd-8cb4-d2cb7ee0816c",
   "metadata": {},
   "source": [
    "## Log loss In a function"
   ]
  },
  {
   "cell_type": "code",
   "execution_count": 72,
   "id": "cac755f3-32e9-4a04-a94c-c394980dfb21",
   "metadata": {},
   "outputs": [
    {
     "name": "stdout",
     "output_type": "stream",
     "text": [
      "[1, 1, 1e-15, 1e-15, 1]\n",
      "[0.999999999999999, 0.999999999999999, 1e-15, 1e-15, 0.999999999999999]\n",
      "[1.e+00 1.e+00 1.e-15 1.e-15 1.e+00]\n",
      "mean of log loss: 18.651211116378033\n"
     ]
    }
   ],
   "source": [
    "def log_loss(y_pred,y_true):\n",
    "    epsilon = 1e-15\n",
    "    changed_y_pred = [max(i,epsilon) for i in y_pred]\n",
    "    print(changed_y_pred)\n",
    "    changed_y_pred = [min(i,1-epsilon) for i in changed_y_pred]\n",
    "    print(changed_y_pred)\n",
    "    changed_y_pred = np.array(changed_y_pred)\n",
    "    print(changed_y_pred)\n",
    "    \n",
    "    print(\"mean of log loss:\", -np.mean(y_true * np.log(changed_y_pred) + (1-y_true) * np.log(1 - changed_y_pred)))\n",
    "\n",
    "log_loss(y_pred,y_true)"
   ]
  },
  {
   "cell_type": "code",
   "execution_count": 86,
   "id": "46c160f2-1a24-4167-b76b-96c4871cb12e",
   "metadata": {},
   "outputs": [
    {
     "ename": "TypeError",
     "evalue": "can only concatenate list (not \"float\") to list",
     "output_type": "error",
     "traceback": [
      "\u001b[1;31m---------------------------------------------------------------------------\u001b[0m",
      "\u001b[1;31mTypeError\u001b[0m                                 Traceback (most recent call last)",
      "\u001b[1;32m~\\AppData\\Local\\Temp/ipykernel_17164/28172831.py\u001b[0m in \u001b[0;36m<module>\u001b[1;34m\u001b[0m\n\u001b[0;32m      4\u001b[0m     \u001b[1;32mreturn\u001b[0m \u001b[1;36m1\u001b[0m\u001b[1;33m/\u001b[0m\u001b[1;33m(\u001b[0m\u001b[1;36m1\u001b[0m\u001b[1;33m+\u001b[0m\u001b[0mmath\u001b[0m\u001b[1;33m.\u001b[0m\u001b[0mexp\u001b[0m\u001b[1;33m(\u001b[0m\u001b[1;33m-\u001b[0m\u001b[0mv\u001b[0m\u001b[1;33m)\u001b[0m\u001b[1;33m)\u001b[0m\u001b[1;33m\u001b[0m\u001b[1;33m\u001b[0m\u001b[0m\n\u001b[0;32m      5\u001b[0m \u001b[1;33m\u001b[0m\u001b[0m\n\u001b[1;32m----> 6\u001b[1;33m \u001b[0my\u001b[0m \u001b[1;33m=\u001b[0m \u001b[1;33m[\u001b[0m\u001b[1;36m5.060867\u001b[0m\u001b[1;33m]\u001b[0m \u001b[1;33m*\u001b[0m \u001b[0mx1\u001b[0m \u001b[1;33m+\u001b[0m \u001b[1;33m[\u001b[0m\u001b[1;36m1.4086502\u001b[0m\u001b[1;33m]\u001b[0m \u001b[1;33m*\u001b[0m \u001b[0mx2\u001b[0m \u001b[1;33m+\u001b[0m \u001b[1;33m-\u001b[0m\u001b[1;36m2.9137027\u001b[0m\u001b[1;33m\u001b[0m\u001b[1;33m\u001b[0m\u001b[0m\n\u001b[0m\u001b[0;32m      7\u001b[0m \u001b[0mprint\u001b[0m\u001b[1;33m(\u001b[0m\u001b[0msgm\u001b[0m\u001b[1;33m(\u001b[0m\u001b[0my\u001b[0m\u001b[1;33m)\u001b[0m\u001b[1;33m)\u001b[0m\u001b[1;33m\u001b[0m\u001b[1;33m\u001b[0m\u001b[0m\n",
      "\u001b[1;31mTypeError\u001b[0m: can only concatenate list (not \"float\") to list"
     ]
    }
   ],
   "source": [
    "x1 = 47\n",
    "x2 = 1\n",
    "def sgm(v):\n",
    "    return 1/(1+math.exp(-v))\n",
    "              \n",
    "y = 5.060867 * x1 + 1.4086502 * x2 + -2.9137027\n",
    "print(sgm(y))\n"
   ]
  },
  {
   "cell_type": "code",
   "execution_count": null,
   "id": "5a05c908-9dd8-4c9f-9dcc-0abe059e7847",
   "metadata": {},
   "outputs": [],
   "source": []
  }
 ],
 "metadata": {
  "kernelspec": {
   "display_name": "Python 3 (ipykernel)",
   "language": "python",
   "name": "python3"
  },
  "language_info": {
   "codemirror_mode": {
    "name": "ipython",
    "version": 3
   },
   "file_extension": ".py",
   "mimetype": "text/x-python",
   "name": "python",
   "nbconvert_exporter": "python",
   "pygments_lexer": "ipython3",
   "version": "3.8.0"
  }
 },
 "nbformat": 4,
 "nbformat_minor": 5
}
