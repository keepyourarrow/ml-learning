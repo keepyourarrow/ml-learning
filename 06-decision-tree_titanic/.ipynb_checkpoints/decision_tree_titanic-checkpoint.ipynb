{
 "cells": [
  {
   "cell_type": "markdown",
   "id": "01fa996b-30a8-4327-b936-d688637b53e0",
   "metadata": {},
   "source": [
    "1. It's a great algorythm in medical field or anywhere where you need to understand **the why**\n",
    "1. It works well with both categories and numbers\n",
    "1. Doesn't need as much preprocessing as other datas"
   ]
  },
  {
   "cell_type": "code",
   "execution_count": null,
   "id": "134700f6-66a7-4c63-b2d6-12b39fcb7ed7",
   "metadata": {},
   "outputs": [],
   "source": [
    "import pandas as pd\n",
    "from sklearn.tree import DecisionTreeClassifier\n",
    "\n",
    "tree = DecisionTreeClassifier()\n",
    "\n",
    "df_train = pd.read_csv('train_data.csv')\n",
    "df_test = pd.read_csv('test_data.csv')\n",
    "df_train.drop(labels=[\"PassengerId\",\"Unnamed: 0\",\"Pclass_3\",\"Title_1\", \"Title_2\", \"Title_3\", \"Title_4\", \"Emb_1\", \"Emb_2\", \"Emb_3\"],axis=\"columns\",inplace=True)\n",
    "df_test.drop(labels=[\"PassengerId\",\"Unnamed: 0\",\"Pclass_3\",\"Title_1\", \"Title_2\", \"Title_3\", \"Title_4\", \"Emb_1\", \"Emb_2\", \"Emb_3\"],axis=\"columns\",inplace=True)\n",
    "\n",
    "df_train\n",
    "# df_test"
   ]
  },
  {
   "cell_type": "markdown",
   "id": "49b712c8-9a1a-4149-b4e9-cb4243950193",
   "metadata": {},
   "source": [
    "## How to show the count"
   ]
  },
  {
   "cell_type": "code",
   "execution_count": null,
   "id": "7a703721-fe55-4989-8e8a-ebbe17734d0c",
   "metadata": {},
   "outputs": [],
   "source": [
    "df_train.groupby('Sex')['Sex'].agg('count')"
   ]
  },
  {
   "cell_type": "code",
   "execution_count": null,
   "id": "1f0413ec-6557-4225-b45d-cc1995461999",
   "metadata": {},
   "outputs": [],
   "source": [
    "df_train.groupby('Sex').size()"
   ]
  },
  {
   "cell_type": "markdown",
   "id": "c6f085b4-a743-40df-97c7-2352eeca9c43",
   "metadata": {},
   "source": [
    "## Get the null values"
   ]
  },
  {
   "cell_type": "code",
   "execution_count": null,
   "id": "6cef1d1d-8910-4444-b403-dcaa0174dade",
   "metadata": {},
   "outputs": [],
   "source": [
    "print(df_train.isnull().sum())\n",
    "print(df_test.isnull().sum())"
   ]
  },
  {
   "cell_type": "markdown",
   "id": "db966e62-cc22-46a6-87bc-437d0437db86",
   "metadata": {},
   "source": [
    "1. Since we have no null values we can skip that preprocessing step\n",
    "1. And since all of our values are scaled already, no need to do that preprocessing step either\n",
    "1. So time for training"
   ]
  },
  {
   "cell_type": "code",
   "execution_count": null,
   "id": "7412e2f8-6979-4850-bd88-d439db2449ff",
   "metadata": {
    "tags": []
   },
   "outputs": [],
   "source": [
    "X_train = df_train.iloc[:, 1:]\n",
    "y_train = df_train.iloc[:, 0:1]\n",
    "X_test = df_test.iloc[:, 1:]\n",
    "y_test = df_test.iloc[:, 0:1]\n",
    "tree_fit = tree.fit(X_train, y_train)"
   ]
  },
  {
   "cell_type": "code",
   "execution_count": null,
   "id": "5c7a0d47-869b-4516-8518-d63158269059",
   "metadata": {},
   "outputs": [],
   "source": [
    "from sklearn.tree import plot_tree\n",
    "plt.figure(figsize=(15,7.5))\n",
    "plot_tree(tree_fit, filled=True, rounded=True, class_names=[\"Survived\",\"Didn't survive\"], feature_names=X_train.columns)\n",
    "plt.show()"
   ]
  },
  {
   "cell_type": "code",
   "execution_count": null,
   "id": "fb3e0280-9c5e-41ab-81db-a9a24b709fc8",
   "metadata": {},
   "outputs": [],
   "source": [
    "prediction = tree.predict(X_test)\n",
    "prediction"
   ]
  },
  {
   "cell_type": "code",
   "execution_count": null,
   "id": "05c9d53e-0577-4550-9339-288eae2ece6e",
   "metadata": {},
   "outputs": [],
   "source": [
    "tree.score(X_test, y_test)"
   ]
  },
  {
   "cell_type": "code",
   "execution_count": null,
   "id": "2958b98b-bdbe-4125-80f8-47ae9c2b78fa",
   "metadata": {},
   "outputs": [],
   "source": [
    "from matplotlib import pyplot as plt\n",
    "import numpy as np\n",
    "survived = df_train[df_train['Survived'] == 1]\n",
    "died = df_train[df_train['Survived'] == 0]\n",
    "\n",
    "age0 = np.floor(died['Age'] * 100)\n",
    "fare0 = np.floor(died['Fare'] * 100)\n",
    "age1 = np.floor(survived['Age'] * 100)\n",
    "fare1 = np.floor(survived['Fare'] * 100)\n",
    "\n",
    "\n",
    "plt.scatter(age0, fare0, color=\"green\",label=\"died\")\n",
    "plt.scatter(age1, fare1, color=\"red\",label=\"survived\")\n",
    "plt.xlabel(\"Age\")\n",
    "plt.ylabel(\"Fare\")\n",
    "\n",
    "plt.legend()\n",
    "# plt.xticks(np.arange(0, 100,step=10))"
   ]
  },
  {
   "cell_type": "code",
   "execution_count": null,
   "id": "f83cc184-7f7d-4d54-adda-989dfcc97a09",
   "metadata": {},
   "outputs": [],
   "source": []
  },
  {
   "cell_type": "code",
   "execution_count": null,
   "id": "923e87a5-f23d-448c-87d5-4681ce50adb6",
   "metadata": {
    "tags": []
   },
   "outputs": [],
   "source": [
    "survived.sort_values(by=\"Fare\",ascending=False)"
   ]
  },
  {
   "cell_type": "code",
   "execution_count": null,
   "id": "e6cce2a1-ee35-46db-a150-1f9ec7f67bbb",
   "metadata": {},
   "outputs": [],
   "source": [
    "from sklearn.metrics import ConfusionMatrixDisplay\n",
    "\n",
    "print(ConfusionMatrixDisplay.from_predictions(y_test,prediction))"
   ]
  },
  {
   "cell_type": "markdown",
   "id": "b9117065-5ab2-4e30-b15c-8616a2c1496c",
   "metadata": {},
   "source": [
    "## Actual Truth"
   ]
  },
  {
   "cell_type": "code",
   "execution_count": null,
   "id": "7dbc07a7-ecd2-444d-abb3-b5320f381e9a",
   "metadata": {},
   "outputs": [],
   "source": [
    "survived = df_test[df_test['Survived'] == 1]\n",
    "died = df_test[df_test['Survived'] == 0]\n",
    "\n",
    "age0 = np.floor(died['Age'] * 100)\n",
    "fare0 = np.floor(died['Fare'] * 100)\n",
    "age1 = np.floor(survived['Age'] * 100)\n",
    "fare1 = np.floor(survived['Fare'] * 100)\n",
    "\n",
    "\n",
    "plt.scatter(age0, fare0, color=\"green\",label=\"died\")\n",
    "plt.scatter(age1, fare1, color=\"red\",label=\"survived\")\n",
    "plt.xlabel(\"Age\")\n",
    "plt.ylabel(\"Fare\")\n",
    "\n",
    "plt.legend()\n",
    "# plt.xticks(np.arange(0, 100,step=10))"
   ]
  },
  {
   "cell_type": "markdown",
   "id": "f62cef1c-2643-4497-af86-36a19abf8722",
   "metadata": {
    "tags": []
   },
   "source": [
    "## Predicted"
   ]
  },
  {
   "cell_type": "code",
   "execution_count": null,
   "id": "d79c7121-0562-4d98-b766-6b925f9b8a4e",
   "metadata": {},
   "outputs": [],
   "source": [
    "df_test['Survived'] = prediction\n",
    "\n",
    "survived = df_test[df_test['Survived'] == 1]\n",
    "died = df_test[df_test['Survived'] == 0]\n",
    "\n",
    "age0 = np.floor(died['Age'] * 100)\n",
    "fare0 = np.floor(died['Fare'] * 100)\n",
    "age1 = np.floor(survived['Age'] * 100)\n",
    "fare1 = np.floor(survived['Fare'] * 100)\n",
    "\n",
    "\n",
    "plt.scatter(age0, fare0, color=\"green\",label=\"died\")\n",
    "plt.scatter(age1, fare1, color=\"red\",label=\"survived\")\n",
    "plt.xlabel(\"Age\")\n",
    "plt.ylabel(\"Fare\")\n",
    "plt.legend()\n"
   ]
  },
  {
   "cell_type": "code",
   "execution_count": null,
   "id": "38df5167-7bad-4409-9247-639500e27754",
   "metadata": {},
   "outputs": [],
   "source": []
  },
  {
   "cell_type": "code",
   "execution_count": null,
   "id": "58769fce-8c6b-41d0-9364-0f7da9d67f3a",
   "metadata": {},
   "outputs": [],
   "source": []
  },
  {
   "cell_type": "code",
   "execution_count": null,
   "id": "0719ef1c-a07f-45d6-b9c3-dad44d36aba8",
   "metadata": {},
   "outputs": [],
   "source": []
  },
  {
   "cell_type": "code",
   "execution_count": null,
   "id": "abe09c1c-2470-4885-abca-15577480d688",
   "metadata": {},
   "outputs": [],
   "source": []
  },
  {
   "cell_type": "code",
   "execution_count": null,
   "id": "d8cf3d27-b99f-45c0-bfe2-447f690e840e",
   "metadata": {},
   "outputs": [],
   "source": []
  }
 ],
 "metadata": {
  "kernelspec": {
   "display_name": "Python 3 (ipykernel)",
   "language": "python",
   "name": "python3"
  },
  "language_info": {
   "codemirror_mode": {
    "name": "ipython",
    "version": 3
   },
   "file_extension": ".py",
   "mimetype": "text/x-python",
   "name": "python",
   "nbconvert_exporter": "python",
   "pygments_lexer": "ipython3",
   "version": "3.8.0"
  }
 },
 "nbformat": 4,
 "nbformat_minor": 5
}
