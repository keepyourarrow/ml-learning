{
 "cells": [
  {
   "cell_type": "code",
   "execution_count": 12,
   "id": "09f6e8f9-4f6e-4cf0-9d70-06c7b83582a5",
   "metadata": {},
   "outputs": [],
   "source": [
    "from sklearn.linear_model import LinearRegression\n",
    "from sklearn.svm import SVC\n",
    "from sklearn.ensemble import RandomForestClassifier\n",
    "from sklearn.cluster import KMeans\n",
    "from sklearn import tree\n",
    "\n",
    "from sklearn import datasets\n",
    "iris = datasets.load_iris()\n",
    "\n",
    "lr = LinearRegression()\n",
    "svc = SVC()\n",
    "rfc = RandomForestClassifier()\n",
    "KMeans = KMeans()\n",
    "tree = tree.DecisionTreeClassifier()"
   ]
  },
  {
   "cell_type": "markdown",
   "id": "f20b1161-32bf-4f49-be9e-9c36d3f0b209",
   "metadata": {},
   "source": [
    "## Why\n",
    "1. So obviously we have many algorithms and we have to choose one. How do we go about doing that?\n",
    "1. We'd plug data to all algorithms that we have and find the most fitting one\n",
    "1. The idea behind **K-fold cross** validation is that we use different training data and different testing data\n",
    "1. We can do it manually by handrwriting the for loop and plugging in different values\n",
    "1. **Or we can use an already readily available handy function that exists in sklearn**\n"
   ]
  },
  {
   "cell_type": "code",
   "execution_count": 24,
   "id": "8ebd586b-790b-4454-b5cd-9c4e9ac64f8e",
   "metadata": {},
   "outputs": [],
   "source": [
    "from sklearn.model_selection import cross_val_score"
   ]
  },
  {
   "cell_type": "code",
   "execution_count": 37,
   "id": "7546ef24-3ca0-41a9-bd9b-0e29fc1a382f",
   "metadata": {},
   "outputs": [
    {
     "data": {
      "text/plain": [
       "array([0.        , 0.85124923, 0.        , 0.76155439, 0.        ])"
      ]
     },
     "execution_count": 37,
     "metadata": {},
     "output_type": "execute_result"
    }
   ],
   "source": [
    "cross_val_score(lr, iris.data, iris.target)"
   ]
  },
  {
   "cell_type": "code",
   "execution_count": 38,
   "id": "b863e896-a14a-47e7-b2fb-9fa2dbfb6021",
   "metadata": {},
   "outputs": [
    {
     "data": {
      "text/plain": [
       "array([0.96666667, 0.96666667, 0.96666667, 0.93333333, 1.        ])"
      ]
     },
     "execution_count": 38,
     "metadata": {},
     "output_type": "execute_result"
    }
   ],
   "source": [
    "cross_val_score(svc, iris.data, iris.target)"
   ]
  },
  {
   "cell_type": "code",
   "execution_count": 39,
   "id": "616ab6e7-408d-45c6-9be7-56e0839f44b1",
   "metadata": {},
   "outputs": [
    {
     "data": {
      "text/plain": [
       "array([0.96666667, 0.96666667, 0.93333333, 0.93333333, 1.        ])"
      ]
     },
     "execution_count": 39,
     "metadata": {},
     "output_type": "execute_result"
    }
   ],
   "source": [
    "cross_val_score(rfc, iris.data, iris.target)"
   ]
  },
  {
   "cell_type": "code",
   "execution_count": 40,
   "id": "e575c58b-77a5-43aa-a59b-38a78600c843",
   "metadata": {},
   "outputs": [
    {
     "data": {
      "text/plain": [
       "array([ -5.155625  ,  -5.72836353,  -9.06697264, -12.09914011,\n",
       "        -9.49677778])"
      ]
     },
     "execution_count": 40,
     "metadata": {},
     "output_type": "execute_result"
    }
   ],
   "source": [
    "cross_val_score(KMeans, iris.data, iris.target)"
   ]
  },
  {
   "cell_type": "code",
   "execution_count": 41,
   "id": "dd4f4d74-cd7f-4286-b259-f8126c78c4d2",
   "metadata": {},
   "outputs": [
    {
     "data": {
      "text/plain": [
       "array([0.96666667, 0.96666667, 0.9       , 0.93333333, 1.        ])"
      ]
     },
     "execution_count": 41,
     "metadata": {},
     "output_type": "execute_result"
    }
   ],
   "source": [
    "cross_val_score(tree, iris.data, iris.target)"
   ]
  },
  {
   "cell_type": "markdown",
   "id": "d61eca0d-c690-42f4-93ac-c3bee450e44e",
   "metadata": {},
   "source": [
    "## We can also plug in different parameters and see the best one"
   ]
  },
  {
   "cell_type": "code",
   "execution_count": 44,
   "id": "57ee98db-4549-4783-88a7-4136a2657a89",
   "metadata": {},
   "outputs": [
    {
     "data": {
      "text/plain": [
       "array([0.96666667, 0.96666667, 0.96666667, 0.93333333, 1.        ])"
      ]
     },
     "execution_count": 44,
     "metadata": {},
     "output_type": "execute_result"
    }
   ],
   "source": [
    "cross_val_score(SVC(C=1), iris.data, iris.target)"
   ]
  },
  {
   "cell_type": "code",
   "execution_count": 45,
   "id": "2e726b2b-db35-496e-a6be-4f8e85cd9007",
   "metadata": {},
   "outputs": [
    {
     "data": {
      "text/plain": [
       "array([0.96666667, 1.        , 0.96666667, 0.96666667, 1.        ])"
      ]
     },
     "execution_count": 45,
     "metadata": {},
     "output_type": "execute_result"
    }
   ],
   "source": [
    "cross_val_score(SVC(C=10), iris.data, iris.target)"
   ]
  },
  {
   "cell_type": "code",
   "execution_count": 46,
   "id": "95657e24-9dba-4212-8183-a9bb25e1c748",
   "metadata": {},
   "outputs": [
    {
     "data": {
      "text/plain": [
       "array([1.        , 1.        , 0.9       , 0.96666667, 1.        ])"
      ]
     },
     "execution_count": 46,
     "metadata": {},
     "output_type": "execute_result"
    }
   ],
   "source": [
    "cross_val_score(SVC(C=100), iris.data, iris.target)"
   ]
  },
  {
   "cell_type": "code",
   "execution_count": 47,
   "id": "5a729a0d-550f-4a19-bd37-f1484203ac23",
   "metadata": {},
   "outputs": [
    {
     "data": {
      "text/plain": [
       "array([0.96666667, 1.        , 0.96666667, 0.96666667, 1.        ])"
      ]
     },
     "execution_count": 47,
     "metadata": {},
     "output_type": "execute_result"
    }
   ],
   "source": [
    "cross_val_score(SVC(gamma=0.1), iris.data, iris.target)"
   ]
  },
  {
   "cell_type": "code",
   "execution_count": 48,
   "id": "7b65d460-1b88-4cbc-8a28-d12e8d71acec",
   "metadata": {},
   "outputs": [
    {
     "data": {
      "text/plain": [
       "array([0.9       , 0.96666667, 0.86666667, 0.93333333, 1.        ])"
      ]
     },
     "execution_count": 48,
     "metadata": {},
     "output_type": "execute_result"
    }
   ],
   "source": [
    "cross_val_score(SVC(gamma=0.01), iris.data, iris.target)"
   ]
  },
  {
   "cell_type": "code",
   "execution_count": 49,
   "id": "1f1f4a3d-9617-44b4-b743-dc97d6a3878e",
   "metadata": {},
   "outputs": [
    {
     "data": {
      "text/plain": [
       "array([0.86666667, 0.96666667, 0.83333333, 0.96666667, 0.93333333])"
      ]
     },
     "execution_count": 49,
     "metadata": {},
     "output_type": "execute_result"
    }
   ],
   "source": [
    "cross_val_score(SVC(gamma=0.001), iris.data, iris.target)"
   ]
  },
  {
   "cell_type": "code",
   "execution_count": 50,
   "id": "61096964-c370-4a4b-b0a1-280fc5a91251",
   "metadata": {},
   "outputs": [
    {
     "data": {
      "text/plain": [
       "array([0.96666667, 0.96666667, 0.96666667, 0.93333333, 1.        ])"
      ]
     },
     "execution_count": 50,
     "metadata": {},
     "output_type": "execute_result"
    }
   ],
   "source": [
    "cross_val_score(SVC(gamma=\"scale\"), iris.data, iris.target)"
   ]
  },
  {
   "cell_type": "code",
   "execution_count": 52,
   "id": "fde6b714-1af4-4f4a-82db-487547eaaeae",
   "metadata": {},
   "outputs": [
    {
     "data": {
      "text/plain": [
       "array([0.96666667, 0.96666667, 0.96666667, 0.93333333, 1.        ])"
      ]
     },
     "execution_count": 52,
     "metadata": {},
     "output_type": "execute_result"
    }
   ],
   "source": [
    "cross_val_score(SVC(gamma=\"scale\", C=1), iris.data, iris.target)"
   ]
  }
 ],
 "metadata": {
  "kernelspec": {
   "display_name": "Python 3 (ipykernel)",
   "language": "python",
   "name": "python3"
  },
  "language_info": {
   "codemirror_mode": {
    "name": "ipython",
    "version": 3
   },
   "file_extension": ".py",
   "mimetype": "text/x-python",
   "name": "python",
   "nbconvert_exporter": "python",
   "pygments_lexer": "ipython3",
   "version": "3.8.0"
  }
 },
 "nbformat": 4,
 "nbformat_minor": 5
}
